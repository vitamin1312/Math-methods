{
 "cells": [
  {
   "cell_type": "code",
   "execution_count": 200,
   "id": "53dd91f2",
   "metadata": {},
   "outputs": [],
   "source": [
    "import numpy as np\n",
    "from numpy import linalg as LA\n",
    "from scipy.linalg import lu as LU"
   ]
  },
  {
   "cell_type": "code",
   "execution_count": 201,
   "id": "475f15f7",
   "metadata": {},
   "outputs": [],
   "source": [
    "def gauss_solve(a, b, out=True):\n",
    "    size = len(a)\n",
    "    x = np.zeros(size)\n",
    "\n",
    "    for i in range(size):\n",
    "        \n",
    "        per = np.eye(size)\n",
    "        idx = i + np.argmax(np.abs(a[i:, i]))\n",
    "        per[i, :], per[idx, :] = per[idx, :].copy(), per[i, :].copy()\n",
    "        a, b = per@a, per@b\n",
    "        \n",
    "        m = np.eye(size)\n",
    "        m[i+1:, i] = -a[i+1:, i] / a[i, i]\n",
    "        m[range(size), range(size)] = 1\n",
    "        m[i, i] = m[i, i] / a[i, i]\n",
    "        \n",
    "        a, b = m@a, m@b\n",
    "        \n",
    "        if out:\n",
    "            print(f'iterarion: {i + 1}')\n",
    "            print(f'permutation matrix:\\n{np.round(per, 3)}')\n",
    "            print(f'M matrix:\\n{np.round(m, 3)}')\n",
    "            print(f'a matrix:\\n{np.round(a, 3)}', end='\\n'*2)\n",
    "        \n",
    "    system = np.column_stack((a, b))\n",
    "    for i in range(size - 1, -1, -1):\n",
    "        x[size - i - 1] = b[i] - x[::-1]@a[i]\n",
    "\n",
    "    return x[::-1]"
   ]
  },
  {
   "cell_type": "code",
   "execution_count": 202,
   "id": "4c9d7916",
   "metadata": {},
   "outputs": [],
   "source": [
    "def gauss_inv(a):\n",
    "    size = len(a)\n",
    "    b = np.eye(size)\n",
    "    x = np.zeros((size, size))\n",
    "    \n",
    "    for i in range(size):\n",
    "        \n",
    "        per = np.eye(size)\n",
    "        idx = i + np.argmax(np.abs(a[i:, i]))\n",
    "        per[i, :], per[idx, :] = per[idx, :].copy(), per[i, :].copy()\n",
    "        a, b = per@a, per@b\n",
    "        \n",
    "        m = np.eye(size)\n",
    "        m[i+1:, i] = -a[i+1:, i] / a[i, i]\n",
    "        m[range(size), range(size)] = 1\n",
    "        m[i, i] = m[i, i] / a[i, i]\n",
    "        \n",
    "        a, b = m@a, m@b\n",
    "        \n",
    "    system = np.column_stack((a, b))\n",
    "    for i in range(size - 1, -1, -1):\n",
    "        x[:, i] = b[i] - x@a[i]\n",
    "\n",
    "    return x.T"
   ]
  },
  {
   "cell_type": "code",
   "execution_count": 203,
   "id": "07061193",
   "metadata": {},
   "outputs": [],
   "source": [
    "def run_through_method(a, b):\n",
    "    \n",
    "    size = len(a)\n",
    "    x = np.zeros(size)\n",
    "    \n",
    "    v, u = np.zeros(size), np.zeros(size)\n",
    "\n",
    "    v[0] = a[0][1] / (-a[0][0]) \n",
    "    u[0] = (- b[0]) / (-a[0][0]) \n",
    "    for i in range(1, size - 1): \n",
    "        v[i] = a[i][i+1] / (-a[i][i] - a[i][i-1]*v[i-1])\n",
    "        u[i] = (a[i][i-1]*u[i-1] - b[i]) / (-a[i][i] - a[i][i-1]*v[i-1])\n",
    "        \n",
    "    v[size-1] = 0\n",
    "    u[size-1] = (a[size-1][size-2]*u[size-2] - b[size-1]) / (-a[size-1][size-1] - a[size-1][size-2]*v[size-2])\n",
    "    \n",
    "    x[size-1] = u[size-1]\n",
    "    for i in range(size-1, 0, -1):\n",
    "        x[i-1] = v[i-1] * x[i] + u[i-1]\n",
    "        \n",
    "    return x"
   ]
  },
  {
   "cell_type": "code",
   "execution_count": 204,
   "id": "1fbba62c",
   "metadata": {},
   "outputs": [],
   "source": [
    "size = 5"
   ]
  },
  {
   "cell_type": "code",
   "execution_count": 205,
   "id": "c38dc1b9",
   "metadata": {},
   "outputs": [],
   "source": [
    "a = np.arange(1, size+1)\n",
    "A = np.array([a * np.concatenate((np.ones(i)*-1, np.ones(size-i))) for i in range(size)], dtype=float)\n",
    "A[range(size), range(size)] = 0\n",
    "A[0, 0] = 1\n",
    "\n",
    "b = np.arange(1, size+1, dtype=float)"
   ]
  },
  {
   "cell_type": "code",
   "execution_count": 206,
   "id": "5e222531",
   "metadata": {},
   "outputs": [
    {
     "data": {
      "text/plain": [
       "array([[ 1.,  2.,  3.,  4.,  5.],\n",
       "       [-1.,  0.,  3.,  4.,  5.],\n",
       "       [-1., -2.,  0.,  4.,  5.],\n",
       "       [-1., -2., -3.,  0.,  5.],\n",
       "       [-1., -2., -3., -4.,  0.]])"
      ]
     },
     "execution_count": 206,
     "metadata": {},
     "output_type": "execute_result"
    }
   ],
   "source": [
    "# A = np.random.rand(5, 5)\n",
    "A"
   ]
  },
  {
   "cell_type": "code",
   "execution_count": 207,
   "id": "1cbfd7ab",
   "metadata": {},
   "outputs": [
    {
     "data": {
      "text/plain": [
       "array([1., 2., 3., 4., 5.])"
      ]
     },
     "execution_count": 207,
     "metadata": {},
     "output_type": "execute_result"
    }
   ],
   "source": [
    "# b = np.random.rand(5, 5)\n",
    "b"
   ]
  },
  {
   "cell_type": "code",
   "execution_count": 208,
   "id": "1da0fa95",
   "metadata": {},
   "outputs": [
    {
     "name": "stdout",
     "output_type": "stream",
     "text": [
      "iterarion: 1\n",
      "permutation matrix:\n",
      "[[1. 0. 0. 0. 0.]\n",
      " [0. 1. 0. 0. 0.]\n",
      " [0. 0. 1. 0. 0.]\n",
      " [0. 0. 0. 1. 0.]\n",
      " [0. 0. 0. 0. 1.]]\n",
      "M matrix:\n",
      "[[1. 0. 0. 0. 0.]\n",
      " [1. 1. 0. 0. 0.]\n",
      " [1. 0. 1. 0. 0.]\n",
      " [1. 0. 0. 1. 0.]\n",
      " [1. 0. 0. 0. 1.]]\n",
      "a matrix:\n",
      "[[ 1.  2.  3.  4.  5.]\n",
      " [ 0.  2.  6.  8. 10.]\n",
      " [ 0.  0.  3.  8. 10.]\n",
      " [ 0.  0.  0.  4. 10.]\n",
      " [ 0.  0.  0.  0.  5.]]\n",
      "\n",
      "iterarion: 2\n",
      "permutation matrix:\n",
      "[[1. 0. 0. 0. 0.]\n",
      " [0. 1. 0. 0. 0.]\n",
      " [0. 0. 1. 0. 0.]\n",
      " [0. 0. 0. 1. 0.]\n",
      " [0. 0. 0. 0. 1.]]\n",
      "M matrix:\n",
      "[[ 1.   0.   0.   0.   0. ]\n",
      " [ 0.   0.5  0.   0.   0. ]\n",
      " [ 0.  -0.   1.   0.   0. ]\n",
      " [ 0.  -0.   0.   1.   0. ]\n",
      " [ 0.  -0.   0.   0.   1. ]]\n",
      "a matrix:\n",
      "[[ 1.  2.  3.  4.  5.]\n",
      " [ 0.  1.  3.  4.  5.]\n",
      " [ 0.  0.  3.  8. 10.]\n",
      " [ 0.  0.  0.  4. 10.]\n",
      " [ 0.  0.  0.  0.  5.]]\n",
      "\n",
      "iterarion: 3\n",
      "permutation matrix:\n",
      "[[1. 0. 0. 0. 0.]\n",
      " [0. 1. 0. 0. 0.]\n",
      " [0. 0. 1. 0. 0.]\n",
      " [0. 0. 0. 1. 0.]\n",
      " [0. 0. 0. 0. 1.]]\n",
      "M matrix:\n",
      "[[ 1.     0.     0.     0.     0.   ]\n",
      " [ 0.     1.     0.     0.     0.   ]\n",
      " [ 0.     0.     0.333  0.     0.   ]\n",
      " [ 0.     0.    -0.     1.     0.   ]\n",
      " [ 0.     0.    -0.     0.     1.   ]]\n",
      "a matrix:\n",
      "[[ 1.     2.     3.     4.     5.   ]\n",
      " [ 0.     1.     3.     4.     5.   ]\n",
      " [ 0.     0.     1.     2.667  3.333]\n",
      " [ 0.     0.     0.     4.    10.   ]\n",
      " [ 0.     0.     0.     0.     5.   ]]\n",
      "\n",
      "iterarion: 4\n",
      "permutation matrix:\n",
      "[[1. 0. 0. 0. 0.]\n",
      " [0. 1. 0. 0. 0.]\n",
      " [0. 0. 1. 0. 0.]\n",
      " [0. 0. 0. 1. 0.]\n",
      " [0. 0. 0. 0. 1.]]\n",
      "M matrix:\n",
      "[[ 1.    0.    0.    0.    0.  ]\n",
      " [ 0.    1.    0.    0.    0.  ]\n",
      " [ 0.    0.    1.    0.    0.  ]\n",
      " [ 0.    0.    0.    0.25  0.  ]\n",
      " [ 0.    0.    0.   -0.    1.  ]]\n",
      "a matrix:\n",
      "[[1.    2.    3.    4.    5.   ]\n",
      " [0.    1.    3.    4.    5.   ]\n",
      " [0.    0.    1.    2.667 3.333]\n",
      " [0.    0.    0.    1.    2.5  ]\n",
      " [0.    0.    0.    0.    5.   ]]\n",
      "\n",
      "iterarion: 5\n",
      "permutation matrix:\n",
      "[[1. 0. 0. 0. 0.]\n",
      " [0. 1. 0. 0. 0.]\n",
      " [0. 0. 1. 0. 0.]\n",
      " [0. 0. 0. 1. 0.]\n",
      " [0. 0. 0. 0. 1.]]\n",
      "M matrix:\n",
      "[[1.  0.  0.  0.  0. ]\n",
      " [0.  1.  0.  0.  0. ]\n",
      " [0.  0.  1.  0.  0. ]\n",
      " [0.  0.  0.  1.  0. ]\n",
      " [0.  0.  0.  0.  0.2]]\n",
      "a matrix:\n",
      "[[1.    2.    3.    4.    5.   ]\n",
      " [0.    1.    3.    4.    5.   ]\n",
      " [0.    0.    1.    2.667 3.333]\n",
      " [0.    0.    0.    1.    2.5  ]\n",
      " [0.    0.    0.    0.    1.   ]]\n",
      "\n"
     ]
    }
   ],
   "source": [
    "x = gauss_solve(A, b)"
   ]
  },
  {
   "cell_type": "code",
   "execution_count": 209,
   "id": "5d82f689",
   "metadata": {},
   "outputs": [
    {
     "data": {
      "text/plain": [
       "array([ 3.  , -3.5 ,  2.  , -1.75,  1.2 ])"
      ]
     },
     "execution_count": 209,
     "metadata": {},
     "output_type": "execute_result"
    }
   ],
   "source": [
    "x"
   ]
  },
  {
   "cell_type": "code",
   "execution_count": 210,
   "id": "35ec9f19",
   "metadata": {},
   "outputs": [
    {
     "data": {
      "text/plain": [
       "array([ 3.  , -3.5 ,  2.  , -1.75,  1.2 ])"
      ]
     },
     "execution_count": 210,
     "metadata": {},
     "output_type": "execute_result"
    }
   ],
   "source": [
    "np.linalg.solve(A, b)"
   ]
  },
  {
   "cell_type": "code",
   "execution_count": 211,
   "id": "180b0b38",
   "metadata": {},
   "outputs": [],
   "source": [
    "P, L, U = LU(A)"
   ]
  },
  {
   "cell_type": "code",
   "execution_count": 212,
   "id": "53dc4f40",
   "metadata": {},
   "outputs": [
    {
     "data": {
      "text/plain": [
       "array([[1., 0., 0., 0., 0.],\n",
       "       [0., 1., 0., 0., 0.],\n",
       "       [0., 0., 1., 0., 0.],\n",
       "       [0., 0., 0., 1., 0.],\n",
       "       [0., 0., 0., 0., 1.]])"
      ]
     },
     "execution_count": 212,
     "metadata": {},
     "output_type": "execute_result"
    }
   ],
   "source": [
    "P"
   ]
  },
  {
   "cell_type": "code",
   "execution_count": 213,
   "id": "2e8a2c48",
   "metadata": {},
   "outputs": [
    {
     "data": {
      "text/plain": [
       "array([[ 1.,  0.,  0.,  0.,  0.],\n",
       "       [-1.,  1.,  0.,  0.,  0.],\n",
       "       [-1.,  0.,  1.,  0.,  0.],\n",
       "       [-1.,  0.,  0.,  1.,  0.],\n",
       "       [-1.,  0.,  0.,  0.,  1.]])"
      ]
     },
     "execution_count": 213,
     "metadata": {},
     "output_type": "execute_result"
    }
   ],
   "source": [
    "L"
   ]
  },
  {
   "cell_type": "code",
   "execution_count": 214,
   "id": "beb630b5",
   "metadata": {},
   "outputs": [
    {
     "data": {
      "text/plain": [
       "array([[ 1.,  2.,  3.,  4.,  5.],\n",
       "       [ 0.,  2.,  6.,  8., 10.],\n",
       "       [ 0.,  0.,  3.,  8., 10.],\n",
       "       [ 0.,  0.,  0.,  4., 10.],\n",
       "       [ 0.,  0.,  0.,  0.,  5.]])"
      ]
     },
     "execution_count": 214,
     "metadata": {},
     "output_type": "execute_result"
    }
   ],
   "source": [
    "U"
   ]
  },
  {
   "cell_type": "code",
   "execution_count": 215,
   "id": "ece70520",
   "metadata": {},
   "outputs": [
    {
     "data": {
      "text/plain": [
       "119.99999999999997"
      ]
     },
     "execution_count": 215,
     "metadata": {},
     "output_type": "execute_result"
    }
   ],
   "source": [
    "LA.det(U)/LA.det(P)"
   ]
  },
  {
   "cell_type": "code",
   "execution_count": 216,
   "id": "9cc15429",
   "metadata": {},
   "outputs": [
    {
     "data": {
      "text/plain": [
       "120.0"
      ]
     },
     "execution_count": 216,
     "metadata": {},
     "output_type": "execute_result"
    }
   ],
   "source": [
    "U[range(size), range(size)].prod()/LA.det(P)"
   ]
  },
  {
   "cell_type": "code",
   "execution_count": 217,
   "id": "b9065220",
   "metadata": {},
   "outputs": [
    {
     "data": {
      "text/plain": [
       "119.99999999999997"
      ]
     },
     "execution_count": 217,
     "metadata": {},
     "output_type": "execute_result"
    }
   ],
   "source": [
    "LA.det(A)"
   ]
  },
  {
   "cell_type": "code",
   "execution_count": 218,
   "id": "93a7349f",
   "metadata": {},
   "outputs": [
    {
     "data": {
      "text/plain": [
       "array([[ 1.        , -1.        ,  1.        , -1.        ,  1.        ],\n",
       "       [-0.5       ,  0.5       , -1.        ,  1.        , -1.        ],\n",
       "       [ 0.33333333,  0.        ,  0.33333333, -0.66666667,  0.66666667],\n",
       "       [-0.25      ,  0.        ,  0.        ,  0.25      , -0.5       ],\n",
       "       [ 0.2       ,  0.        ,  0.        ,  0.        ,  0.2       ]])"
      ]
     },
     "execution_count": 218,
     "metadata": {},
     "output_type": "execute_result"
    }
   ],
   "source": [
    "gauss_inv(A)"
   ]
  },
  {
   "cell_type": "code",
   "execution_count": 219,
   "id": "1afc30c5",
   "metadata": {},
   "outputs": [
    {
     "data": {
      "text/plain": [
       "array([[ 1.        , -1.        ,  1.        , -1.        ,  1.        ],\n",
       "       [-0.5       ,  0.5       , -1.        ,  1.        , -1.        ],\n",
       "       [ 0.33333333,  0.        ,  0.33333333, -0.66666667,  0.66666667],\n",
       "       [-0.25      ,  0.        ,  0.        ,  0.25      , -0.5       ],\n",
       "       [ 0.2       ,  0.        ,  0.        ,  0.        ,  0.2       ]])"
      ]
     },
     "execution_count": 219,
     "metadata": {},
     "output_type": "execute_result"
    }
   ],
   "source": [
    "LA.inv(A)"
   ]
  },
  {
   "cell_type": "code",
   "execution_count": 220,
   "id": "4e22da41",
   "metadata": {},
   "outputs": [],
   "source": [
    "size = 10"
   ]
  },
  {
   "cell_type": "code",
   "execution_count": 221,
   "id": "60c6e271",
   "metadata": {},
   "outputs": [],
   "source": [
    "k1 = np.arange(1, size+1)\n",
    "k2 = np.arange(1, size-1)\n",
    "\n",
    "A = np.diag(k1/5)\n",
    "A[np.arange(size-2), np.arange(size-2) + 1] = 5*k2\n",
    "A[np.arange(size-2) + 1, np.arange(size-2)] = k2 - 5\n",
    "d = k1**2 / 5 + k1*5"
   ]
  },
  {
   "cell_type": "code",
   "execution_count": 222,
   "id": "4134095e",
   "metadata": {},
   "outputs": [
    {
     "data": {
      "text/plain": [
       "array([[ 0.2,  5. ,  0. ,  0. ,  0. ,  0. ,  0. ,  0. ,  0. ,  0. ],\n",
       "       [-4. ,  0.4, 10. ,  0. ,  0. ,  0. ,  0. ,  0. ,  0. ,  0. ],\n",
       "       [ 0. , -3. ,  0.6, 15. ,  0. ,  0. ,  0. ,  0. ,  0. ,  0. ],\n",
       "       [ 0. ,  0. , -2. ,  0.8, 20. ,  0. ,  0. ,  0. ,  0. ,  0. ],\n",
       "       [ 0. ,  0. ,  0. , -1. ,  1. , 25. ,  0. ,  0. ,  0. ,  0. ],\n",
       "       [ 0. ,  0. ,  0. ,  0. ,  0. ,  1.2, 30. ,  0. ,  0. ,  0. ],\n",
       "       [ 0. ,  0. ,  0. ,  0. ,  0. ,  1. ,  1.4, 35. ,  0. ,  0. ],\n",
       "       [ 0. ,  0. ,  0. ,  0. ,  0. ,  0. ,  2. ,  1.6, 40. ,  0. ],\n",
       "       [ 0. ,  0. ,  0. ,  0. ,  0. ,  0. ,  0. ,  3. ,  1.8,  0. ],\n",
       "       [ 0. ,  0. ,  0. ,  0. ,  0. ,  0. ,  0. ,  0. ,  0. ,  2. ]])"
      ]
     },
     "execution_count": 222,
     "metadata": {},
     "output_type": "execute_result"
    }
   ],
   "source": [
    "A"
   ]
  },
  {
   "cell_type": "code",
   "execution_count": 223,
   "id": "a34409d0",
   "metadata": {},
   "outputs": [
    {
     "data": {
      "text/plain": [
       "array([ 5.2, 10.8, 16.8, 23.2, 30. , 37.2, 44.8, 52.8, 61.2, 70. ])"
      ]
     },
     "execution_count": 223,
     "metadata": {},
     "output_type": "execute_result"
    }
   ],
   "source": [
    "d"
   ]
  },
  {
   "cell_type": "code",
   "execution_count": 224,
   "id": "a3a8696f",
   "metadata": {},
   "outputs": [
    {
     "data": {
      "text/plain": [
       "False"
      ]
     },
     "execution_count": 224,
     "metadata": {},
     "output_type": "execute_result"
    }
   ],
   "source": [
    "(np.abs(A[range(1,size-1), range(1,size-1)]) >=\n",
    "    np.abs(A[np.arange(size-2), np.arange(size-2) + 1]) +\n",
    "    np.abs(A[np.arange(size-2) + 1, np.arange(size-2)])).all()"
   ]
  },
  {
   "cell_type": "code",
   "execution_count": 225,
   "id": "fc5b6dcb",
   "metadata": {},
   "outputs": [
    {
     "data": {
      "text/plain": [
       "array([ 2.82010400e+05, -1.12793760e+04,  1.13256415e+05, -6.78501179e+03,\n",
       "        1.15982020e+04, -7.34128550e+02,  3.06051420e+01,  2.10308958e+01,\n",
       "       -1.05149293e+00,  3.50000000e+01])"
      ]
     },
     "execution_count": 225,
     "metadata": {},
     "output_type": "execute_result"
    }
   ],
   "source": [
    "run_through_method(A, d)"
   ]
  },
  {
   "cell_type": "code",
   "execution_count": 226,
   "id": "ecf1be61",
   "metadata": {},
   "outputs": [
    {
     "data": {
      "text/plain": [
       "array([ 2.82010400e+05, -1.12793760e+04,  1.13256415e+05, -6.78501179e+03,\n",
       "        1.15982020e+04, -7.34128550e+02,  3.06051420e+01,  2.10308958e+01,\n",
       "       -1.05149293e+00,  3.50000000e+01])"
      ]
     },
     "execution_count": 226,
     "metadata": {},
     "output_type": "execute_result"
    }
   ],
   "source": [
    "LA.solve(A, d)"
   ]
  }
 ],
 "metadata": {
  "kernelspec": {
   "display_name": "myenv",
   "language": "python",
   "name": "myenv"
  },
  "language_info": {
   "codemirror_mode": {
    "name": "ipython",
    "version": 3
   },
   "file_extension": ".py",
   "mimetype": "text/x-python",
   "name": "python",
   "nbconvert_exporter": "python",
   "pygments_lexer": "ipython3",
   "version": "3.9.13"
  }
 },
 "nbformat": 4,
 "nbformat_minor": 5
}
