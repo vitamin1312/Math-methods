{
 "cells": [
  {
   "cell_type": "code",
   "execution_count": 301,
   "id": "53dd91f2",
   "metadata": {},
   "outputs": [],
   "source": [
    "import numpy as np\n",
    "from numpy import linalg as LA\n",
    "from scipy.linalg import lu as LU"
   ]
  },
  {
   "cell_type": "code",
   "execution_count": 302,
   "id": "9dcd3bdf",
   "metadata": {},
   "outputs": [],
   "source": [
    "def gauss_solve(a, b, out=True):\n",
    "    size = len(a)\n",
    "    x = np.zeros(size)\n",
    "\n",
    "    for i in range(size):\n",
    "        \n",
    "        per = np.eye(size)\n",
    "        idx = i + np.argmax(np.abs(a[i:, i]))\n",
    "        per[i, :], per[idx, :] = per[idx, :].copy(), per[i, :].copy()\n",
    "        a, b = per@a, per@b\n",
    "        \n",
    "        m = np.eye(size)\n",
    "        m[i+1:, i] = -a[i+1:, i] / a[i, i]\n",
    "        m[range(size), range(size)] = 1\n",
    "        m[i, i] = m[i, i] / a[i, i]\n",
    "        \n",
    "        a, b = m@a, m@b\n",
    "        \n",
    "        if out:\n",
    "            print(f'iterarion: {i + 1}')\n",
    "            print(f'permutation matrix:\\n{np.round(per, 3)}')\n",
    "            print(f'M matrix:\\n{np.round(m, 3)}')\n",
    "            print(f'a matrix:\\n{np.round(a, 3)}', end='\\n'*2)\n",
    "        \n",
    "    system = np.column_stack((a, b))\n",
    "    for i in range(size - 1, -1, -1):\n",
    "        x[size - i - 1] = b[i] - x[::-1]@a[i]\n",
    "\n",
    "    return x[::-1]"
   ]
  },
  {
   "cell_type": "code",
   "execution_count": 303,
   "id": "77d8edbb",
   "metadata": {},
   "outputs": [],
   "source": [
    "def run_through_method(a, b):\n",
    "    \n",
    "    size = len(a)\n",
    "    x = np.zeros(size)\n",
    "    \n",
    "    v, u = np.zeros(size), np.zeros(size)\n",
    "\n",
    "    v[0] = a[0][1] / (-a[0][0]) \n",
    "    u[0] = (- b[0]) / (-a[0][0]) \n",
    "    for i in range(1, size - 1): \n",
    "        v[i] = a[i][i+1] / (-a[i][i] - a[i][i-1]*v[i-1])\n",
    "        u[i] = (a[i][i-1]*u[i-1] - b[i]) / (-a[i][i] - a[i][i-1]*v[i-1])\n",
    "        \n",
    "    v[size-1] = 0\n",
    "    u[size-1] = (a[size-1][size-2]*u[size-2] - b[size-1]) / (-a[size-1][size-1] - a[size-1][size-2]*v[size-2])\n",
    "    \n",
    "    x[size-1] = u[size-1]\n",
    "    for i in range(size-1, 0, -1):\n",
    "        x[i-1] = v[i-1] * x[i] + u[i-1]\n",
    "        \n",
    "    return x"
   ]
  },
  {
   "cell_type": "code",
   "execution_count": 316,
   "id": "4fa01f90",
   "metadata": {},
   "outputs": [
    {
     "data": {
      "text/plain": [
       "array([ 1.        , -0.5       ,  0.33333333, -0.25      ,  0.2       ,\n",
       "       -1.        ,  0.5       ,  0.        ,  0.        ,  0.        ,\n",
       "        1.        , -1.        ,  0.33333333,  0.        ,  0.        ,\n",
       "       -1.        ,  1.        , -0.66666667,  0.25      ,  0.        ,\n",
       "        1.        , -1.        ,  0.66666667, -0.5       ,  0.2       ])"
      ]
     },
     "execution_count": 316,
     "metadata": {},
     "output_type": "execute_result"
    }
   ],
   "source": [
    "B = np.eye(size)\n",
    "inv_A = np.array([])\n",
    "\n",
    "for column in B.T:\n",
    "    inv_A = np.append(inv_A, gauss_solve(A, column, out=False))\n",
    "inv_A"
   ]
  },
  {
   "cell_type": "code",
   "execution_count": 309,
   "id": "fb25f2f6",
   "metadata": {},
   "outputs": [
    {
     "data": {
      "text/plain": [
       "(25,)"
      ]
     },
     "execution_count": 309,
     "metadata": {},
     "output_type": "execute_result"
    }
   ],
   "source": [
    "inv_A.shape"
   ]
  },
  {
   "cell_type": "code",
   "execution_count": null,
   "id": "1fbba62c",
   "metadata": {},
   "outputs": [],
   "source": [
    "size = 5"
   ]
  },
  {
   "cell_type": "code",
   "execution_count": null,
   "id": "c38dc1b9",
   "metadata": {},
   "outputs": [],
   "source": [
    "a = np.arange(1, size+1)\n",
    "A = np.array([a * np.concatenate((np.ones(i)*-1, np.ones(size-i))) for i in range(size)], dtype=float)\n",
    "A[range(size), range(size)] = 0\n",
    "A[0, 0] = 1\n",
    "\n",
    "b = np.arange(1, size+1, dtype=float)"
   ]
  },
  {
   "cell_type": "code",
   "execution_count": null,
   "id": "5e222531",
   "metadata": {},
   "outputs": [],
   "source": [
    "# A = np.random.rand(5, 5)\n",
    "A"
   ]
  },
  {
   "cell_type": "code",
   "execution_count": null,
   "id": "1cbfd7ab",
   "metadata": {},
   "outputs": [],
   "source": [
    "# b = np.random.rand(5, 5)\n",
    "b"
   ]
  },
  {
   "cell_type": "code",
   "execution_count": null,
   "id": "1da0fa95",
   "metadata": {},
   "outputs": [],
   "source": [
    "x = gauss_solve(A, b)"
   ]
  },
  {
   "cell_type": "code",
   "execution_count": null,
   "id": "5d82f689",
   "metadata": {},
   "outputs": [],
   "source": [
    "x"
   ]
  },
  {
   "cell_type": "code",
   "execution_count": null,
   "id": "35ec9f19",
   "metadata": {},
   "outputs": [],
   "source": [
    "np.linalg.solve(A, b)"
   ]
  },
  {
   "cell_type": "code",
   "execution_count": null,
   "id": "27e86c5f",
   "metadata": {},
   "outputs": [],
   "source": [
    "P, L, U = LU(A)"
   ]
  },
  {
   "cell_type": "code",
   "execution_count": null,
   "id": "51d906a4",
   "metadata": {},
   "outputs": [],
   "source": [
    "P"
   ]
  },
  {
   "cell_type": "code",
   "execution_count": null,
   "id": "8bf14740",
   "metadata": {},
   "outputs": [],
   "source": [
    "L"
   ]
  },
  {
   "cell_type": "code",
   "execution_count": null,
   "id": "604c74f3",
   "metadata": {},
   "outputs": [],
   "source": [
    "U"
   ]
  },
  {
   "cell_type": "code",
   "execution_count": null,
   "id": "cfcbcef3",
   "metadata": {},
   "outputs": [],
   "source": [
    "LA.det(L)*LA.det(U)"
   ]
  },
  {
   "cell_type": "code",
   "execution_count": null,
   "id": "9cc15429",
   "metadata": {},
   "outputs": [],
   "source": [
    "L[range(size), range(size)].prod() * U[range(size), range(size)].prod()"
   ]
  },
  {
   "cell_type": "code",
   "execution_count": null,
   "id": "a3dec53a",
   "metadata": {},
   "outputs": [],
   "source": [
    "LA.det(A)"
   ]
  },
  {
   "cell_type": "code",
   "execution_count": null,
   "id": "25f4bd68",
   "metadata": {},
   "outputs": [],
   "source": [
    "size = 10"
   ]
  },
  {
   "cell_type": "code",
   "execution_count": null,
   "id": "17314635",
   "metadata": {},
   "outputs": [],
   "source": [
    "k1 = np.arange(1, size+1)\n",
    "k2 = np.arange(1, size-1)\n",
    "\n",
    "A = np.diag(k1/5)\n",
    "A[np.arange(size-2), np.arange(size-2) + 1] = 5*k2\n",
    "A[np.arange(size-2) + 1, np.arange(size-2)] = k2 - 5\n",
    "d = k1**2 / 5 + k1*5"
   ]
  },
  {
   "cell_type": "code",
   "execution_count": null,
   "id": "ba66ee76",
   "metadata": {},
   "outputs": [],
   "source": [
    "A"
   ]
  },
  {
   "cell_type": "code",
   "execution_count": null,
   "id": "4b0be446",
   "metadata": {},
   "outputs": [],
   "source": [
    "d"
   ]
  },
  {
   "cell_type": "code",
   "execution_count": null,
   "id": "6e0d28d9",
   "metadata": {},
   "outputs": [],
   "source": [
    "(np.abs(A[range(1,size-1), range(1,size-1)]) >\n",
    "    np.abs(A[np.arange(size-2), np.arange(size-2) + 1]) +\n",
    "    np.abs(A[np.arange(size-2) + 1, np.arange(size-2)])).all()"
   ]
  },
  {
   "cell_type": "code",
   "execution_count": null,
   "id": "1ac73cad",
   "metadata": {},
   "outputs": [],
   "source": [
    "run_through_method(A, d)"
   ]
  },
  {
   "cell_type": "code",
   "execution_count": null,
   "id": "d2169645",
   "metadata": {},
   "outputs": [],
   "source": [
    "d.shape"
   ]
  },
  {
   "cell_type": "code",
   "execution_count": null,
   "id": "aff865ed",
   "metadata": {},
   "outputs": [],
   "source": [
    "LA.solve(A, d)"
   ]
  }
 ],
 "metadata": {
  "kernelspec": {
   "display_name": "myenv",
   "language": "python",
   "name": "myenv"
  },
  "language_info": {
   "codemirror_mode": {
    "name": "ipython",
    "version": 3
   },
   "file_extension": ".py",
   "mimetype": "text/x-python",
   "name": "python",
   "nbconvert_exporter": "python",
   "pygments_lexer": "ipython3",
   "version": "3.9.13"
  }
 },
 "nbformat": 4,
 "nbformat_minor": 5
}
