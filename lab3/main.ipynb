{
 "cells": [
  {
   "cell_type": "code",
   "execution_count": 67,
   "id": "53dd91f2",
   "metadata": {},
   "outputs": [],
   "source": [
    "import numpy as np\n",
    "from numpy import linalg as LA\n",
    "from scipy.linalg import lu as LU"
   ]
  },
  {
   "cell_type": "code",
   "execution_count": 68,
   "id": "ef23b329",
   "metadata": {},
   "outputs": [],
   "source": [
    "def gauss_solve(a, b, out=True):\n",
    "    size = len(a)\n",
    "    x = np.zeros(size)\n",
    "\n",
    "    for i in range(size):\n",
    "        \n",
    "        per = np.eye(size)\n",
    "        idx = i + np.argmax(np.abs(a[i:, i]))\n",
    "        per[i, :], per[idx, :] = per[idx, :].copy(), per[i, :].copy()\n",
    "        a, b = per@a, per@b\n",
    "        \n",
    "        m = np.eye(size)\n",
    "        m[i+1:, i] = -a[i+1:, i] / a[i, i]\n",
    "        m[range(size), range(size)] = 1\n",
    "        m[i, i] = m[i, i] / a[i, i]\n",
    "        \n",
    "        a, b = m@a, m@b\n",
    "        \n",
    "        if out:\n",
    "            print(f'iterarion: {i + 1}')\n",
    "            print(f'permutation matrix:\\n{np.round(per, 3)}')\n",
    "            print(f'M matrix:\\n{np.round(m, 3)}')\n",
    "            print(f'a matrix:\\n{np.round(a, 3)}', end='\\n'*2)\n",
    "        \n",
    "    system = np.column_stack((a, b))\n",
    "    for i in range(size - 1, -1, -1):\n",
    "        x[size - i - 1] = b[i] - x[::-1]@a[i]\n",
    "\n",
    "    return x[::-1]"
   ]
  },
  {
   "cell_type": "code",
   "execution_count": 69,
   "id": "4fe5b8a8",
   "metadata": {},
   "outputs": [],
   "source": [
    "def run_through_method(a, b):\n",
    "    \n",
    "    size = len(a)\n",
    "    x = np.zeros(size)\n",
    "    \n",
    "    v, u = np.zeros(size), np.zeros(size)\n",
    "\n",
    "    v[0] = a[0][1] / (-a[0][0]) \n",
    "    u[0] = (- b[0]) / (-a[0][0]) \n",
    "    for i in range(1, size - 1): \n",
    "        v[i] = a[i][i+1] / (-a[i][i] - a[i][i-1]*v[i-1])\n",
    "        u[i] = (a[i][i-1]*u[i-1] - b[i]) / (-a[i][i] - a[i][i-1]*v[i-1])\n",
    "        \n",
    "    v[size-1] = 0\n",
    "    u[size-1] = (a[size-1][size-2]*u[size-2] - b[size-1]) / (-a[size-1][size-1] - a[size-1][size-2]*v[size-2])\n",
    "    \n",
    "    x[size-1] = u[size-1]\n",
    "    for i in range(size-1, 0, -1):\n",
    "        x[i-1] = v[i-1] * x[i] + u[i-1]\n",
    "        \n",
    "    return x"
   ]
  },
  {
   "cell_type": "code",
   "execution_count": 70,
   "id": "1fbba62c",
   "metadata": {},
   "outputs": [],
   "source": [
    "size = 5"
   ]
  },
  {
   "cell_type": "code",
   "execution_count": 71,
   "id": "c38dc1b9",
   "metadata": {},
   "outputs": [],
   "source": [
    "a = np.arange(1, size+1)\n",
    "A = np.array([a * np.concatenate((np.ones(i)*-1, np.ones(size-i))) for i in range(size)], dtype=float)\n",
    "A[range(size), range(size)] = 0\n",
    "A[0, 0] = 1\n",
    "\n",
    "b = np.arange(1, size+1, dtype=float)"
   ]
  },
  {
   "cell_type": "code",
   "execution_count": 72,
   "id": "5e222531",
   "metadata": {},
   "outputs": [
    {
     "data": {
      "text/plain": [
       "array([[ 1.,  2.,  3.,  4.,  5.],\n",
       "       [-1.,  0.,  3.,  4.,  5.],\n",
       "       [-1., -2.,  0.,  4.,  5.],\n",
       "       [-1., -2., -3.,  0.,  5.],\n",
       "       [-1., -2., -3., -4.,  0.]])"
      ]
     },
     "execution_count": 72,
     "metadata": {},
     "output_type": "execute_result"
    }
   ],
   "source": [
    "# A = np.random.rand(5, 5)\n",
    "A"
   ]
  },
  {
   "cell_type": "code",
   "execution_count": 73,
   "id": "1cbfd7ab",
   "metadata": {},
   "outputs": [
    {
     "data": {
      "text/plain": [
       "array([1., 2., 3., 4., 5.])"
      ]
     },
     "execution_count": 73,
     "metadata": {},
     "output_type": "execute_result"
    }
   ],
   "source": [
    "# b = np.random.rand(5, 5)\n",
    "b"
   ]
  },
  {
   "cell_type": "code",
   "execution_count": 74,
   "id": "1da0fa95",
   "metadata": {},
   "outputs": [
    {
     "name": "stdout",
     "output_type": "stream",
     "text": [
      "iterarion: 1\n",
      "permutation matrix:\n",
      "[[1. 0. 0. 0. 0.]\n",
      " [0. 1. 0. 0. 0.]\n",
      " [0. 0. 1. 0. 0.]\n",
      " [0. 0. 0. 1. 0.]\n",
      " [0. 0. 0. 0. 1.]]\n",
      "M matrix:\n",
      "[[1. 0. 0. 0. 0.]\n",
      " [1. 1. 0. 0. 0.]\n",
      " [1. 0. 1. 0. 0.]\n",
      " [1. 0. 0. 1. 0.]\n",
      " [1. 0. 0. 0. 1.]]\n",
      "a matrix:\n",
      "[[ 1.  2.  3.  4.  5.]\n",
      " [ 0.  2.  6.  8. 10.]\n",
      " [ 0.  0.  3.  8. 10.]\n",
      " [ 0.  0.  0.  4. 10.]\n",
      " [ 0.  0.  0.  0.  5.]]\n",
      "\n",
      "iterarion: 2\n",
      "permutation matrix:\n",
      "[[1. 0. 0. 0. 0.]\n",
      " [0. 1. 0. 0. 0.]\n",
      " [0. 0. 1. 0. 0.]\n",
      " [0. 0. 0. 1. 0.]\n",
      " [0. 0. 0. 0. 1.]]\n",
      "M matrix:\n",
      "[[ 1.   0.   0.   0.   0. ]\n",
      " [ 0.   0.5  0.   0.   0. ]\n",
      " [ 0.  -0.   1.   0.   0. ]\n",
      " [ 0.  -0.   0.   1.   0. ]\n",
      " [ 0.  -0.   0.   0.   1. ]]\n",
      "a matrix:\n",
      "[[ 1.  2.  3.  4.  5.]\n",
      " [ 0.  1.  3.  4.  5.]\n",
      " [ 0.  0.  3.  8. 10.]\n",
      " [ 0.  0.  0.  4. 10.]\n",
      " [ 0.  0.  0.  0.  5.]]\n",
      "\n",
      "iterarion: 3\n",
      "permutation matrix:\n",
      "[[1. 0. 0. 0. 0.]\n",
      " [0. 1. 0. 0. 0.]\n",
      " [0. 0. 1. 0. 0.]\n",
      " [0. 0. 0. 1. 0.]\n",
      " [0. 0. 0. 0. 1.]]\n",
      "M matrix:\n",
      "[[ 1.     0.     0.     0.     0.   ]\n",
      " [ 0.     1.     0.     0.     0.   ]\n",
      " [ 0.     0.     0.333  0.     0.   ]\n",
      " [ 0.     0.    -0.     1.     0.   ]\n",
      " [ 0.     0.    -0.     0.     1.   ]]\n",
      "a matrix:\n",
      "[[ 1.     2.     3.     4.     5.   ]\n",
      " [ 0.     1.     3.     4.     5.   ]\n",
      " [ 0.     0.     1.     2.667  3.333]\n",
      " [ 0.     0.     0.     4.    10.   ]\n",
      " [ 0.     0.     0.     0.     5.   ]]\n",
      "\n",
      "iterarion: 4\n",
      "permutation matrix:\n",
      "[[1. 0. 0. 0. 0.]\n",
      " [0. 1. 0. 0. 0.]\n",
      " [0. 0. 1. 0. 0.]\n",
      " [0. 0. 0. 1. 0.]\n",
      " [0. 0. 0. 0. 1.]]\n",
      "M matrix:\n",
      "[[ 1.    0.    0.    0.    0.  ]\n",
      " [ 0.    1.    0.    0.    0.  ]\n",
      " [ 0.    0.    1.    0.    0.  ]\n",
      " [ 0.    0.    0.    0.25  0.  ]\n",
      " [ 0.    0.    0.   -0.    1.  ]]\n",
      "a matrix:\n",
      "[[1.    2.    3.    4.    5.   ]\n",
      " [0.    1.    3.    4.    5.   ]\n",
      " [0.    0.    1.    2.667 3.333]\n",
      " [0.    0.    0.    1.    2.5  ]\n",
      " [0.    0.    0.    0.    5.   ]]\n",
      "\n",
      "iterarion: 5\n",
      "permutation matrix:\n",
      "[[1. 0. 0. 0. 0.]\n",
      " [0. 1. 0. 0. 0.]\n",
      " [0. 0. 1. 0. 0.]\n",
      " [0. 0. 0. 1. 0.]\n",
      " [0. 0. 0. 0. 1.]]\n",
      "M matrix:\n",
      "[[1.  0.  0.  0.  0. ]\n",
      " [0.  1.  0.  0.  0. ]\n",
      " [0.  0.  1.  0.  0. ]\n",
      " [0.  0.  0.  1.  0. ]\n",
      " [0.  0.  0.  0.  0.2]]\n",
      "a matrix:\n",
      "[[1.    2.    3.    4.    5.   ]\n",
      " [0.    1.    3.    4.    5.   ]\n",
      " [0.    0.    1.    2.667 3.333]\n",
      " [0.    0.    0.    1.    2.5  ]\n",
      " [0.    0.    0.    0.    1.   ]]\n",
      "\n"
     ]
    }
   ],
   "source": [
    "x = gauss_solve(A, b)"
   ]
  },
  {
   "cell_type": "code",
   "execution_count": 75,
   "id": "5d82f689",
   "metadata": {},
   "outputs": [
    {
     "data": {
      "text/plain": [
       "array([ 3.  , -3.5 ,  2.  , -1.75,  1.2 ])"
      ]
     },
     "execution_count": 75,
     "metadata": {},
     "output_type": "execute_result"
    }
   ],
   "source": [
    "x"
   ]
  },
  {
   "cell_type": "code",
   "execution_count": 76,
   "id": "35ec9f19",
   "metadata": {},
   "outputs": [
    {
     "data": {
      "text/plain": [
       "array([ 3.  , -3.5 ,  2.  , -1.75,  1.2 ])"
      ]
     },
     "execution_count": 76,
     "metadata": {},
     "output_type": "execute_result"
    }
   ],
   "source": [
    "np.linalg.solve(A, b)"
   ]
  },
  {
   "cell_type": "code",
   "execution_count": 77,
   "id": "581485c4",
   "metadata": {},
   "outputs": [],
   "source": [
    "P, L, U = LU(A)"
   ]
  },
  {
   "cell_type": "code",
   "execution_count": 78,
   "id": "47e67c3d",
   "metadata": {},
   "outputs": [
    {
     "data": {
      "text/plain": [
       "array([[1., 0., 0., 0., 0.],\n",
       "       [0., 1., 0., 0., 0.],\n",
       "       [0., 0., 1., 0., 0.],\n",
       "       [0., 0., 0., 1., 0.],\n",
       "       [0., 0., 0., 0., 1.]])"
      ]
     },
     "execution_count": 78,
     "metadata": {},
     "output_type": "execute_result"
    }
   ],
   "source": [
    "P"
   ]
  },
  {
   "cell_type": "code",
   "execution_count": 79,
   "id": "5c215331",
   "metadata": {},
   "outputs": [
    {
     "data": {
      "text/plain": [
       "array([[ 1.,  0.,  0.,  0.,  0.],\n",
       "       [-1.,  1.,  0.,  0.,  0.],\n",
       "       [-1.,  0.,  1.,  0.,  0.],\n",
       "       [-1.,  0.,  0.,  1.,  0.],\n",
       "       [-1.,  0.,  0.,  0.,  1.]])"
      ]
     },
     "execution_count": 79,
     "metadata": {},
     "output_type": "execute_result"
    }
   ],
   "source": [
    "L"
   ]
  },
  {
   "cell_type": "code",
   "execution_count": 80,
   "id": "2ba610c3",
   "metadata": {},
   "outputs": [
    {
     "data": {
      "text/plain": [
       "array([[ 1.,  2.,  3.,  4.,  5.],\n",
       "       [ 0.,  2.,  6.,  8., 10.],\n",
       "       [ 0.,  0.,  3.,  8., 10.],\n",
       "       [ 0.,  0.,  0.,  4., 10.],\n",
       "       [ 0.,  0.,  0.,  0.,  5.]])"
      ]
     },
     "execution_count": 80,
     "metadata": {},
     "output_type": "execute_result"
    }
   ],
   "source": [
    "U"
   ]
  },
  {
   "cell_type": "code",
   "execution_count": 81,
   "id": "cd00b37b",
   "metadata": {},
   "outputs": [
    {
     "data": {
      "text/plain": [
       "119.99999999999997"
      ]
     },
     "execution_count": 81,
     "metadata": {},
     "output_type": "execute_result"
    }
   ],
   "source": [
    "LA.det(L)*LA.det(U)"
   ]
  },
  {
   "cell_type": "code",
   "execution_count": 82,
   "id": "9cc15429",
   "metadata": {},
   "outputs": [
    {
     "data": {
      "text/plain": [
       "120.0"
      ]
     },
     "execution_count": 82,
     "metadata": {},
     "output_type": "execute_result"
    }
   ],
   "source": [
    "L[range(size), range(size)].prod() * U[range(size), range(size)].prod()"
   ]
  },
  {
   "cell_type": "code",
   "execution_count": 83,
   "id": "c04ff0ba",
   "metadata": {},
   "outputs": [
    {
     "data": {
      "text/plain": [
       "119.99999999999997"
      ]
     },
     "execution_count": 83,
     "metadata": {},
     "output_type": "execute_result"
    }
   ],
   "source": [
    "LA.det(A)"
   ]
  },
  {
   "cell_type": "code",
   "execution_count": 84,
   "id": "40cad0b8",
   "metadata": {},
   "outputs": [
    {
     "data": {
      "text/plain": [
       "array([[ 1.        , -1.        ,  1.        , -1.        ,  1.        ],\n",
       "       [-0.5       ,  0.5       , -1.        ,  1.        , -1.        ],\n",
       "       [ 0.33333333,  0.        ,  0.33333333, -0.66666667,  0.66666667],\n",
       "       [-0.25      ,  0.        ,  0.        ,  0.25      , -0.5       ],\n",
       "       [ 0.2       ,  0.        ,  0.        ,  0.        ,  0.2       ]])"
      ]
     },
     "execution_count": 84,
     "metadata": {},
     "output_type": "execute_result"
    }
   ],
   "source": [
    "B = np.eye(size)\n",
    "inv_A = np.array([])\n",
    "\n",
    "for column in B.T:\n",
    "    inv_A = np.append(inv_A, gauss_solve(A, column, out=False))\n",
    "inv_A = inv_A.reshape(size, size).T\n",
    "inv_A"
   ]
  },
  {
   "cell_type": "code",
   "execution_count": 85,
   "id": "fe6a9185",
   "metadata": {},
   "outputs": [
    {
     "data": {
      "text/plain": [
       "array([[ 1.        , -1.        ,  1.        , -1.        ,  1.        ],\n",
       "       [-0.5       ,  0.5       , -1.        ,  1.        , -1.        ],\n",
       "       [ 0.33333333,  0.        ,  0.33333333, -0.66666667,  0.66666667],\n",
       "       [-0.25      ,  0.        ,  0.        ,  0.25      , -0.5       ],\n",
       "       [ 0.2       ,  0.        ,  0.        ,  0.        ,  0.2       ]])"
      ]
     },
     "execution_count": 85,
     "metadata": {},
     "output_type": "execute_result"
    }
   ],
   "source": [
    "LA.inv(A)"
   ]
  },
  {
   "cell_type": "code",
   "execution_count": 86,
   "id": "0cb7b396",
   "metadata": {},
   "outputs": [],
   "source": [
    "size = 10"
   ]
  },
  {
   "cell_type": "code",
   "execution_count": 87,
   "id": "d34a1046",
   "metadata": {},
   "outputs": [],
   "source": [
    "k1 = np.arange(1, size+1)\n",
    "k2 = np.arange(1, size-1)\n",
    "\n",
    "A = np.diag(k1/5)\n",
    "A[np.arange(size-2), np.arange(size-2) + 1] = 5*k2\n",
    "A[np.arange(size-2) + 1, np.arange(size-2)] = k2 - 5\n",
    "d = k1**2 / 5 + k1*5"
   ]
  },
  {
   "cell_type": "code",
   "execution_count": 88,
   "id": "a1911d42",
   "metadata": {},
   "outputs": [
    {
     "data": {
      "text/plain": [
       "array([[ 0.2,  5. ,  0. ,  0. ,  0. ,  0. ,  0. ,  0. ,  0. ,  0. ],\n",
       "       [-4. ,  0.4, 10. ,  0. ,  0. ,  0. ,  0. ,  0. ,  0. ,  0. ],\n",
       "       [ 0. , -3. ,  0.6, 15. ,  0. ,  0. ,  0. ,  0. ,  0. ,  0. ],\n",
       "       [ 0. ,  0. , -2. ,  0.8, 20. ,  0. ,  0. ,  0. ,  0. ,  0. ],\n",
       "       [ 0. ,  0. ,  0. , -1. ,  1. , 25. ,  0. ,  0. ,  0. ,  0. ],\n",
       "       [ 0. ,  0. ,  0. ,  0. ,  0. ,  1.2, 30. ,  0. ,  0. ,  0. ],\n",
       "       [ 0. ,  0. ,  0. ,  0. ,  0. ,  1. ,  1.4, 35. ,  0. ,  0. ],\n",
       "       [ 0. ,  0. ,  0. ,  0. ,  0. ,  0. ,  2. ,  1.6, 40. ,  0. ],\n",
       "       [ 0. ,  0. ,  0. ,  0. ,  0. ,  0. ,  0. ,  3. ,  1.8,  0. ],\n",
       "       [ 0. ,  0. ,  0. ,  0. ,  0. ,  0. ,  0. ,  0. ,  0. ,  2. ]])"
      ]
     },
     "execution_count": 88,
     "metadata": {},
     "output_type": "execute_result"
    }
   ],
   "source": [
    "A"
   ]
  },
  {
   "cell_type": "code",
   "execution_count": 89,
   "id": "465025fd",
   "metadata": {},
   "outputs": [
    {
     "data": {
      "text/plain": [
       "array([ 5.2, 10.8, 16.8, 23.2, 30. , 37.2, 44.8, 52.8, 61.2, 70. ])"
      ]
     },
     "execution_count": 89,
     "metadata": {},
     "output_type": "execute_result"
    }
   ],
   "source": [
    "d"
   ]
  },
  {
   "cell_type": "code",
   "execution_count": 90,
   "id": "7cf7b92b",
   "metadata": {},
   "outputs": [
    {
     "data": {
      "text/plain": [
       "False"
      ]
     },
     "execution_count": 90,
     "metadata": {},
     "output_type": "execute_result"
    }
   ],
   "source": [
    "(np.abs(A[range(1,size-1), range(1,size-1)]) >\n",
    "    np.abs(A[np.arange(size-2), np.arange(size-2) + 1]) +\n",
    "    np.abs(A[np.arange(size-2) + 1, np.arange(size-2)])).all()"
   ]
  },
  {
   "cell_type": "code",
   "execution_count": 91,
   "id": "e419e4c4",
   "metadata": {},
   "outputs": [
    {
     "data": {
      "text/plain": [
       "array([ 2.82010400e+05, -1.12793760e+04,  1.13256415e+05, -6.78501179e+03,\n",
       "        1.15982020e+04, -7.34128550e+02,  3.06051420e+01,  2.10308958e+01,\n",
       "       -1.05149293e+00,  3.50000000e+01])"
      ]
     },
     "execution_count": 91,
     "metadata": {},
     "output_type": "execute_result"
    }
   ],
   "source": [
    "run_through_method(A, d)"
   ]
  },
  {
   "cell_type": "code",
   "execution_count": 92,
   "id": "856d9bcc",
   "metadata": {},
   "outputs": [
    {
     "data": {
      "text/plain": [
       "(10,)"
      ]
     },
     "execution_count": 92,
     "metadata": {},
     "output_type": "execute_result"
    }
   ],
   "source": [
    "d.shape"
   ]
  },
  {
   "cell_type": "code",
   "execution_count": 93,
   "id": "84fe8102",
   "metadata": {},
   "outputs": [
    {
     "data": {
      "text/plain": [
       "array([ 2.82010400e+05, -1.12793760e+04,  1.13256415e+05, -6.78501179e+03,\n",
       "        1.15982020e+04, -7.34128550e+02,  3.06051420e+01,  2.10308958e+01,\n",
       "       -1.05149293e+00,  3.50000000e+01])"
      ]
     },
     "execution_count": 93,
     "metadata": {},
     "output_type": "execute_result"
    }
   ],
   "source": [
    "LA.solve(A, d)"
   ]
  }
 ],
 "metadata": {
  "kernelspec": {
   "display_name": "myenv",
   "language": "python",
   "name": "myenv"
  },
  "language_info": {
   "codemirror_mode": {
    "name": "ipython",
    "version": 3
   },
   "file_extension": ".py",
   "mimetype": "text/x-python",
   "name": "python",
   "nbconvert_exporter": "python",
   "pygments_lexer": "ipython3",
   "version": "3.9.13"
  }
 },
 "nbformat": 4,
 "nbformat_minor": 5
}
