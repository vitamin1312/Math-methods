{
 "cells": [
  {
   "cell_type": "code",
   "execution_count": 370,
   "id": "53dd91f2",
   "metadata": {},
   "outputs": [],
   "source": [
    "import numpy as np"
   ]
  },
  {
   "cell_type": "code",
   "execution_count": 371,
   "id": "fb25f2f6",
   "metadata": {},
   "outputs": [],
   "source": [
    "def gauss_solve(a, b):\n",
    "    x = np.zeros(len(a))\n",
    "    size = len(a)\n",
    "\n",
    "    for i in range(size):\n",
    "        print(f'iterarion: {i + 1}')\n",
    "        \n",
    "        per = np.eye(size)\n",
    "        idx = i + np.argmax(np.abs(a[i:, i]))\n",
    "        per[i, :], per[idx, :] = per[idx, :].copy(), per[i, :].copy()\n",
    "        a, b = per@a, per@b\n",
    "        print(f'permutation matrix:\\n{np.round(per, 3)}')\n",
    "        \n",
    "        m = np.eye(size)\n",
    "        m[i+1:, i] = -a[i+1:, i] / a[i, i]\n",
    "        m[range(size), range(size)] = 1\n",
    "        m[i, i] = m[i, i] / a[i, i]\n",
    "        print(f'M matrix:\\n{np.round(m, 3)}')\n",
    "        a, b = m@a, m@b\n",
    "        print(f'a matrix:\\n{np.round(a, 3)}', end='\\n'*2)\n",
    "        \n",
    "    system = np.column_stack((a, b))\n",
    "    for i in range(size - 1, -1, -1):\n",
    "        x[size - i - 1] = b[i] - x[::-1]@a[i]\n",
    "\n",
    "    return x[::-1]"
   ]
  },
  {
   "cell_type": "code",
   "execution_count": 372,
   "id": "00256de8",
   "metadata": {},
   "outputs": [],
   "source": [
    "def LU_det(a):\n",
    "    \n",
    "    size = len(a)\n",
    "    \n",
    "    u = np.zeros((size, size))\n",
    "    l = np.eye(size)\n",
    "    \n",
    "    for i in range(size):\n",
    "        for j in range(size):\n",
    "            if i <= j:\n",
    "                u[i, j] = a[i, j] - l[:, i]@u[i, :]\n",
    "            else:\n",
    "                l[i, j] = (a[i, j] - l[:, i]@u[i, :]) / u[j, j]\n",
    "    return l, u"
   ]
  },
  {
   "cell_type": "code",
   "execution_count": 373,
   "id": "1fbba62c",
   "metadata": {},
   "outputs": [],
   "source": [
    "size = 5"
   ]
  },
  {
   "cell_type": "code",
   "execution_count": 374,
   "id": "c38dc1b9",
   "metadata": {},
   "outputs": [],
   "source": [
    "a = np.arange(1, size+1)\n",
    "A = np.array([a * np.concatenate((np.ones(i)*-1, np.ones(size-i))) for i in range(size)], dtype=float)\n",
    "A[range(size), range(size)] = 0\n",
    "A[0, 0] = 1\n",
    "\n",
    "b = np.arange(1, size+1, dtype=float)"
   ]
  },
  {
   "cell_type": "code",
   "execution_count": 375,
   "id": "5e222531",
   "metadata": {},
   "outputs": [
    {
     "data": {
      "text/plain": [
       "array([[ 1.,  2.,  3.,  4.,  5.],\n",
       "       [-1.,  0.,  3.,  4.,  5.],\n",
       "       [-1., -2.,  0.,  4.,  5.],\n",
       "       [-1., -2., -3.,  0.,  5.],\n",
       "       [-1., -2., -3., -4.,  0.]])"
      ]
     },
     "execution_count": 375,
     "metadata": {},
     "output_type": "execute_result"
    }
   ],
   "source": [
    "# A = np.random.rand(5, 5)\n",
    "A"
   ]
  },
  {
   "cell_type": "code",
   "execution_count": 376,
   "id": "1cbfd7ab",
   "metadata": {},
   "outputs": [
    {
     "data": {
      "text/plain": [
       "array([1., 2., 3., 4., 5.])"
      ]
     },
     "execution_count": 376,
     "metadata": {},
     "output_type": "execute_result"
    }
   ],
   "source": [
    "# b = np.random.rand(5)\n",
    "b"
   ]
  },
  {
   "cell_type": "code",
   "execution_count": 377,
   "id": "1da0fa95",
   "metadata": {},
   "outputs": [
    {
     "name": "stdout",
     "output_type": "stream",
     "text": [
      "iterarion: 1\n",
      "permutation matrix:\n",
      "[[1. 0. 0. 0. 0.]\n",
      " [0. 1. 0. 0. 0.]\n",
      " [0. 0. 1. 0. 0.]\n",
      " [0. 0. 0. 1. 0.]\n",
      " [0. 0. 0. 0. 1.]]\n",
      "M matrix:\n",
      "[[1. 0. 0. 0. 0.]\n",
      " [1. 1. 0. 0. 0.]\n",
      " [1. 0. 1. 0. 0.]\n",
      " [1. 0. 0. 1. 0.]\n",
      " [1. 0. 0. 0. 1.]]\n",
      "a matrix:\n",
      "[[ 1.  2.  3.  4.  5.]\n",
      " [ 0.  2.  6.  8. 10.]\n",
      " [ 0.  0.  3.  8. 10.]\n",
      " [ 0.  0.  0.  4. 10.]\n",
      " [ 0.  0.  0.  0.  5.]]\n",
      "\n",
      "iterarion: 2\n",
      "permutation matrix:\n",
      "[[1. 0. 0. 0. 0.]\n",
      " [0. 1. 0. 0. 0.]\n",
      " [0. 0. 1. 0. 0.]\n",
      " [0. 0. 0. 1. 0.]\n",
      " [0. 0. 0. 0. 1.]]\n",
      "M matrix:\n",
      "[[ 1.   0.   0.   0.   0. ]\n",
      " [ 0.   0.5  0.   0.   0. ]\n",
      " [ 0.  -0.   1.   0.   0. ]\n",
      " [ 0.  -0.   0.   1.   0. ]\n",
      " [ 0.  -0.   0.   0.   1. ]]\n",
      "a matrix:\n",
      "[[ 1.  2.  3.  4.  5.]\n",
      " [ 0.  1.  3.  4.  5.]\n",
      " [ 0.  0.  3.  8. 10.]\n",
      " [ 0.  0.  0.  4. 10.]\n",
      " [ 0.  0.  0.  0.  5.]]\n",
      "\n",
      "iterarion: 3\n",
      "permutation matrix:\n",
      "[[1. 0. 0. 0. 0.]\n",
      " [0. 1. 0. 0. 0.]\n",
      " [0. 0. 1. 0. 0.]\n",
      " [0. 0. 0. 1. 0.]\n",
      " [0. 0. 0. 0. 1.]]\n",
      "M matrix:\n",
      "[[ 1.     0.     0.     0.     0.   ]\n",
      " [ 0.     1.     0.     0.     0.   ]\n",
      " [ 0.     0.     0.333  0.     0.   ]\n",
      " [ 0.     0.    -0.     1.     0.   ]\n",
      " [ 0.     0.    -0.     0.     1.   ]]\n",
      "a matrix:\n",
      "[[ 1.     2.     3.     4.     5.   ]\n",
      " [ 0.     1.     3.     4.     5.   ]\n",
      " [ 0.     0.     1.     2.667  3.333]\n",
      " [ 0.     0.     0.     4.    10.   ]\n",
      " [ 0.     0.     0.     0.     5.   ]]\n",
      "\n",
      "iterarion: 4\n",
      "permutation matrix:\n",
      "[[1. 0. 0. 0. 0.]\n",
      " [0. 1. 0. 0. 0.]\n",
      " [0. 0. 1. 0. 0.]\n",
      " [0. 0. 0. 1. 0.]\n",
      " [0. 0. 0. 0. 1.]]\n",
      "M matrix:\n",
      "[[ 1.    0.    0.    0.    0.  ]\n",
      " [ 0.    1.    0.    0.    0.  ]\n",
      " [ 0.    0.    1.    0.    0.  ]\n",
      " [ 0.    0.    0.    0.25  0.  ]\n",
      " [ 0.    0.    0.   -0.    1.  ]]\n",
      "a matrix:\n",
      "[[1.    2.    3.    4.    5.   ]\n",
      " [0.    1.    3.    4.    5.   ]\n",
      " [0.    0.    1.    2.667 3.333]\n",
      " [0.    0.    0.    1.    2.5  ]\n",
      " [0.    0.    0.    0.    5.   ]]\n",
      "\n",
      "iterarion: 5\n",
      "permutation matrix:\n",
      "[[1. 0. 0. 0. 0.]\n",
      " [0. 1. 0. 0. 0.]\n",
      " [0. 0. 1. 0. 0.]\n",
      " [0. 0. 0. 1. 0.]\n",
      " [0. 0. 0. 0. 1.]]\n",
      "M matrix:\n",
      "[[1.  0.  0.  0.  0. ]\n",
      " [0.  1.  0.  0.  0. ]\n",
      " [0.  0.  1.  0.  0. ]\n",
      " [0.  0.  0.  1.  0. ]\n",
      " [0.  0.  0.  0.  0.2]]\n",
      "a matrix:\n",
      "[[1.    2.    3.    4.    5.   ]\n",
      " [0.    1.    3.    4.    5.   ]\n",
      " [0.    0.    1.    2.667 3.333]\n",
      " [0.    0.    0.    1.    2.5  ]\n",
      " [0.    0.    0.    0.    1.   ]]\n",
      "\n"
     ]
    }
   ],
   "source": [
    "x = gauss_solve(A, b)"
   ]
  },
  {
   "cell_type": "code",
   "execution_count": 378,
   "id": "5d82f689",
   "metadata": {},
   "outputs": [
    {
     "data": {
      "text/plain": [
       "array([ 3.  , -3.5 ,  2.  , -1.75,  1.2 ])"
      ]
     },
     "execution_count": 378,
     "metadata": {},
     "output_type": "execute_result"
    }
   ],
   "source": [
    "x"
   ]
  },
  {
   "cell_type": "code",
   "execution_count": 379,
   "id": "35ec9f19",
   "metadata": {},
   "outputs": [
    {
     "data": {
      "text/plain": [
       "array([ 3.  , -3.5 ,  2.  , -1.75,  1.2 ])"
      ]
     },
     "execution_count": 379,
     "metadata": {},
     "output_type": "execute_result"
    }
   ],
   "source": [
    "np.linalg.solve(A, b)"
   ]
  },
  {
   "cell_type": "code",
   "execution_count": 380,
   "id": "16edcbb7",
   "metadata": {},
   "outputs": [
    {
     "name": "stderr",
     "output_type": "stream",
     "text": [
      "C:\\Users\\vikto\\AppData\\Local\\Temp\\ipykernel_320\\2222505529.py:13: RuntimeWarning: divide by zero encountered in double_scalars\n",
      "  l[i, j] = (a[i, j] - l[:, i]@u[i, :]) / u[j, j]\n"
     ]
    }
   ],
   "source": [
    "l, u = LU_det(A)"
   ]
  },
  {
   "cell_type": "code",
   "execution_count": 381,
   "id": "e46be57a",
   "metadata": {},
   "outputs": [
    {
     "data": {
      "text/plain": [
       "array([[  1.,   0.,   0.,   0.,   0.],\n",
       "       [ -1.,   1.,   0.,   0.,   0.],\n",
       "       [ -1., -inf,   1.,   0.,   0.],\n",
       "       [ -1., -inf, -inf,   1.,   0.],\n",
       "       [ -1., -inf, -inf, -inf,   1.]])"
      ]
     },
     "execution_count": 381,
     "metadata": {},
     "output_type": "execute_result"
    }
   ],
   "source": [
    "l"
   ]
  },
  {
   "cell_type": "code",
   "execution_count": 382,
   "id": "9fb4dd7a",
   "metadata": {},
   "outputs": [
    {
     "data": {
      "text/plain": [
       "array([[1., 1., 2., 3., 4.],\n",
       "       [0., 0., 3., 4., 5.],\n",
       "       [0., 0., 0., 4., 5.],\n",
       "       [0., 0., 0., 0., 5.],\n",
       "       [0., 0., 0., 0., 0.]])"
      ]
     },
     "execution_count": 382,
     "metadata": {},
     "output_type": "execute_result"
    }
   ],
   "source": [
    "u"
   ]
  },
  {
   "cell_type": "code",
   "execution_count": 383,
   "id": "dc8ba94f",
   "metadata": {},
   "outputs": [
    {
     "name": "stderr",
     "output_type": "stream",
     "text": [
      "C:\\Users\\vikto\\AppData\\Local\\Temp\\ipykernel_320\\2306406285.py:1: RuntimeWarning: invalid value encountered in matmul\n",
      "  l@u\n"
     ]
    },
    {
     "data": {
      "text/plain": [
       "array([[  1.,   1.,   2.,   3.,   4.],\n",
       "       [ -1.,  -1.,   1.,   1.,   1.],\n",
       "       [ nan,  nan, -inf, -inf, -inf],\n",
       "       [ nan,  nan,  nan, -inf, -inf],\n",
       "       [ nan,  nan,  nan,  nan, -inf]])"
      ]
     },
     "execution_count": 383,
     "metadata": {},
     "output_type": "execute_result"
    }
   ],
   "source": [
    "l@u"
   ]
  },
  {
   "cell_type": "code",
   "execution_count": null,
   "id": "9cc15429",
   "metadata": {},
   "outputs": [],
   "source": []
  }
 ],
 "metadata": {
  "kernelspec": {
   "display_name": "myenv",
   "language": "python",
   "name": "myenv"
  },
  "language_info": {
   "codemirror_mode": {
    "name": "ipython",
    "version": 3
   },
   "file_extension": ".py",
   "mimetype": "text/x-python",
   "name": "python",
   "nbconvert_exporter": "python",
   "pygments_lexer": "ipython3",
   "version": "3.9.13"
  }
 },
 "nbformat": 4,
 "nbformat_minor": 5
}
