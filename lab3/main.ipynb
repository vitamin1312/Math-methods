{
 "cells": [
  {
   "cell_type": "code",
   "execution_count": 131,
   "id": "53dd91f2",
   "metadata": {},
   "outputs": [],
   "source": [
    "import numpy as np"
   ]
  },
  {
   "cell_type": "code",
   "execution_count": 132,
   "id": "9f547c7b",
   "metadata": {},
   "outputs": [],
   "source": [
    "def gauss_jordano(a, b):\n",
    "    size = len(a)\n",
    "    system = np.column_stack((a, b))\n",
    "\n",
    "    for i in range(size):\n",
    "        if system[i, i] == 0.:\n",
    "            system[i, :], system[(i+1) % size, :] = system[(i+1) % size, :].copy(), system[i, :].copy()\n",
    "\n",
    "        system[i, :] = system[i, :] / system[i, i]\n",
    "\n",
    "        for j in range(i + 1, size):\n",
    "            system[j, :] = system[j, :] - system[i, :] * system[j, i]\n",
    "\n",
    "    for i in range(size - 1, 0, -1):\n",
    "        for j in range(i - 1, -1, -1):\n",
    "            system[j, :] = system[j, :] - system[i, :] * system[j, i]\n",
    "\n",
    "    return np.array(system[:, -1])"
   ]
  },
  {
   "cell_type": "code",
   "execution_count": 133,
   "id": "00256de8",
   "metadata": {},
   "outputs": [],
   "source": [
    "def gauss(a, b):\n",
    "    x = np.zeros(len(a))\n",
    "    size = len(a)\n",
    "\n",
    "    for i in range(size):\n",
    "        print(f'iterarion: {i + 1}')\n",
    "        \n",
    "        per = np.eye(size)\n",
    "        idx = i + np.argmax(np.abs(a[i:, i]))\n",
    "        per[i, :], per[idx, :] = per[idx, :].copy(), per[i, :].copy()\n",
    "        a, b = per@a, per@b\n",
    "        print(f'permutation matrix:\\n{per}')\n",
    "        \n",
    "        m = np.eye(size)\n",
    "        m[i+1:, i] = -a[i+1:, i] / a[i, i]\n",
    "        m[range(size), range(size)] = 1\n",
    "        m[i, i] = m[i, i] / a[i, i]\n",
    "        print(f'M matrix:\\n{m}')\n",
    "        \n",
    "        a, b = m@a, m@b\n",
    "        print(f'a matrix:\\n{a}', end='\\n'*2)\n",
    "        \n",
    "    system = np.column_stack((a, b))\n",
    "    for i in range(size - 1, -1, -1):\n",
    "        x[len(a) - i - 1] = system[i, -1] - x[::-1]@system[i, :-1]\n",
    "\n",
    "    return x[::-1]"
   ]
  },
  {
   "cell_type": "code",
   "execution_count": 134,
   "id": "1fbba62c",
   "metadata": {},
   "outputs": [],
   "source": [
    "size = 5"
   ]
  },
  {
   "cell_type": "code",
   "execution_count": 135,
   "id": "c38dc1b9",
   "metadata": {},
   "outputs": [],
   "source": [
    "a = np.arange(1, size+1)\n",
    "A = np.array([a * np.concatenate((np.ones(i)*-1, np.ones(size-i))) for i in range(size)], dtype=float)\n",
    "A[range(size), range(size)] = 0\n",
    "A[0, 0] = 1\n",
    "\n",
    "b = np.arange(1, size+1, dtype=float)"
   ]
  },
  {
   "cell_type": "code",
   "execution_count": 136,
   "id": "5e222531",
   "metadata": {},
   "outputs": [
    {
     "data": {
      "text/plain": [
       "array([[0.83866794, 0.7682857 , 0.81241828, 0.46603133, 0.75196593],\n",
       "       [0.22369958, 0.42325557, 0.45523347, 0.69268756, 0.98350213],\n",
       "       [0.33133265, 0.18839091, 0.48871242, 0.15554205, 0.81361784],\n",
       "       [0.57120008, 0.35878418, 0.45049912, 0.97627326, 0.78985204],\n",
       "       [0.05223803, 0.7796463 , 0.24068789, 0.19735126, 0.67742994]])"
      ]
     },
     "execution_count": 136,
     "metadata": {},
     "output_type": "execute_result"
    }
   ],
   "source": [
    "A = np.random.rand(5, 5)\n",
    "A"
   ]
  },
  {
   "cell_type": "code",
   "execution_count": 137,
   "id": "1cbfd7ab",
   "metadata": {},
   "outputs": [
    {
     "data": {
      "text/plain": [
       "array([0.6702737 , 0.10043313, 0.64528839, 0.1533425 , 0.23094578])"
      ]
     },
     "execution_count": 137,
     "metadata": {},
     "output_type": "execute_result"
    }
   ],
   "source": [
    "b = np.random.rand(5)\n",
    "b"
   ]
  },
  {
   "cell_type": "code",
   "execution_count": 138,
   "id": "1da0fa95",
   "metadata": {},
   "outputs": [
    {
     "name": "stdout",
     "output_type": "stream",
     "text": [
      "iterarion: 1\n",
      "permutation matrix:\n",
      "[[1. 0. 0. 0. 0.]\n",
      " [0. 1. 0. 0. 0.]\n",
      " [0. 0. 1. 0. 0.]\n",
      " [0. 0. 0. 1. 0.]\n",
      " [0. 0. 0. 0. 1.]]\n",
      "M matrix:\n",
      "[[ 1.19236703  0.          0.          0.          0.        ]\n",
      " [-0.26673201  1.          0.          0.          0.        ]\n",
      " [-0.39507013  0.          1.          0.          0.        ]\n",
      " [-0.68108015  0.          0.          1.          0.        ]\n",
      " [-0.06228691  0.          0.          0.          1.        ]]\n",
      "a matrix:\n",
      "[[ 1.          0.91607854  0.96870076  0.5556804   0.89661938]\n",
      " [ 0.          0.21832918  0.23853552  0.56838209  0.78292875]\n",
      " [ 0.         -0.11513582  0.16775023 -0.02857301  0.51653856]\n",
      " [ 0.         -0.16447995 -0.10282284  0.65886857  0.27770297]\n",
      " [ 0.          0.73179216  0.19008487  0.16832361  0.63059231]]\n",
      "\n",
      "iterarion: 2\n",
      "permutation matrix:\n",
      "[[1. 0. 0. 0. 0.]\n",
      " [0. 0. 0. 0. 1.]\n",
      " [0. 0. 1. 0. 0.]\n",
      " [0. 0. 0. 1. 0.]\n",
      " [0. 1. 0. 0. 0.]]\n",
      "M matrix:\n",
      "[[ 1.          0.          0.          0.          0.        ]\n",
      " [ 0.          1.36650822  0.          0.          0.        ]\n",
      " [ 0.          0.15733405  1.          0.          0.        ]\n",
      " [ 0.          0.22476321  0.          1.          0.        ]\n",
      " [ 0.         -0.29834862  0.          0.          1.        ]]\n",
      "a matrix:\n",
      "[[ 1.          0.91607854  0.96870076  0.5556804   0.89661938]\n",
      " [ 0.          1.          0.25975253  0.23001559  0.86170957]\n",
      " [ 0.          0.          0.19765705 -0.00208998  0.6157522 ]\n",
      " [ 0.          0.         -0.06009875  0.69670152  0.41943692]\n",
      " [ 0.          0.          0.18182396  0.51816297  0.5947924 ]]\n",
      "\n",
      "iterarion: 3\n",
      "permutation matrix:\n",
      "[[1. 0. 0. 0. 0.]\n",
      " [0. 1. 0. 0. 0.]\n",
      " [0. 0. 1. 0. 0.]\n",
      " [0. 0. 0. 1. 0.]\n",
      " [0. 0. 0. 0. 1.]]\n",
      "M matrix:\n",
      "[[ 1.          0.          0.          0.          0.        ]\n",
      " [ 0.          1.          0.          0.          0.        ]\n",
      " [ 0.          0.          5.05926804  0.          0.        ]\n",
      " [ 0.          0.          0.30405569  1.          0.        ]\n",
      " [ 0.          0.         -0.91989614  0.          1.        ]]\n",
      "a matrix:\n",
      "[[ 1.          0.91607854  0.96870076  0.5556804   0.89661938]\n",
      " [ 0.          1.          0.25975253  0.23001559  0.86170957]\n",
      " [ 0.          0.          1.         -0.01057376  3.11525544]\n",
      " [ 0.          0.          0.          0.69606606  0.60665988]\n",
      " [ 0.          0.          0.          0.52008553  0.02836433]]\n",
      "\n",
      "iterarion: 4\n",
      "permutation matrix:\n",
      "[[1. 0. 0. 0. 0.]\n",
      " [0. 1. 0. 0. 0.]\n",
      " [0. 0. 1. 0. 0.]\n",
      " [0. 0. 0. 1. 0.]\n",
      " [0. 0. 0. 0. 1.]]\n",
      "M matrix:\n",
      "[[ 1.          0.          0.          0.          0.        ]\n",
      " [ 0.          1.          0.          0.          0.        ]\n",
      " [ 0.          0.          1.          0.          0.        ]\n",
      " [ 0.          0.          0.          1.43664526  0.        ]\n",
      " [ 0.          0.          0.         -0.74717842  1.        ]]\n",
      "a matrix:\n",
      "[[ 1.          0.91607854  0.96870076  0.5556804   0.89661938]\n",
      " [ 0.          1.          0.25975253  0.23001559  0.86170957]\n",
      " [ 0.          0.          1.         -0.01057376  3.11525544]\n",
      " [ 0.          0.          0.          1.          0.87155505]\n",
      " [ 0.          0.          0.          0.         -0.42491885]]\n",
      "\n",
      "iterarion: 5\n",
      "permutation matrix:\n",
      "[[1. 0. 0. 0. 0.]\n",
      " [0. 1. 0. 0. 0.]\n",
      " [0. 0. 1. 0. 0.]\n",
      " [0. 0. 0. 1. 0.]\n",
      " [0. 0. 0. 0. 1.]]\n",
      "M matrix:\n",
      "[[ 1.          0.          0.          0.          0.        ]\n",
      " [ 0.          1.          0.          0.          0.        ]\n",
      " [ 0.          0.          1.          0.          0.        ]\n",
      " [ 0.          0.          0.          1.          0.        ]\n",
      " [ 0.          0.          0.          0.         -2.35339056]]\n",
      "a matrix:\n",
      "[[ 1.          0.91607854  0.96870076  0.5556804   0.89661938]\n",
      " [ 0.          1.          0.25975253  0.23001559  0.86170957]\n",
      " [ 0.          0.          1.         -0.01057376  3.11525544]\n",
      " [ 0.          0.          0.          1.          0.87155505]\n",
      " [ 0.          0.          0.          0.          1.        ]]\n",
      "\n"
     ]
    },
    {
     "data": {
      "text/plain": [
       "array([ 1.50792473, -0.08985058, -0.94597394, -1.03751336,  0.96639583])"
      ]
     },
     "execution_count": 138,
     "metadata": {},
     "output_type": "execute_result"
    }
   ],
   "source": [
    "gauss(A, b)"
   ]
  },
  {
   "cell_type": "code",
   "execution_count": 139,
   "id": "ed43b8aa",
   "metadata": {},
   "outputs": [
    {
     "data": {
      "text/plain": [
       "array([ 1.50792473, -0.08985058, -0.94597394, -1.03751336,  0.96639583])"
      ]
     },
     "execution_count": 139,
     "metadata": {},
     "output_type": "execute_result"
    }
   ],
   "source": [
    "gauss_jordano(A, b)"
   ]
  },
  {
   "cell_type": "code",
   "execution_count": 140,
   "id": "78b408f1",
   "metadata": {},
   "outputs": [
    {
     "data": {
      "text/plain": [
       "array([ 1.50792473, -0.08985058, -0.94597394, -1.03751336,  0.96639583])"
      ]
     },
     "execution_count": 140,
     "metadata": {},
     "output_type": "execute_result"
    }
   ],
   "source": [
    "np.linalg.solve(A, b)"
   ]
  }
 ],
 "metadata": {
  "kernelspec": {
   "display_name": "myenv",
   "language": "python",
   "name": "myenv"
  },
  "language_info": {
   "codemirror_mode": {
    "name": "ipython",
    "version": 3
   },
   "file_extension": ".py",
   "mimetype": "text/x-python",
   "name": "python",
   "nbconvert_exporter": "python",
   "pygments_lexer": "ipython3",
   "version": "3.9.13"
  }
 },
 "nbformat": 4,
 "nbformat_minor": 5
}
