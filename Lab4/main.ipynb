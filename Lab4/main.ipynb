{
 "cells": [
  {
   "cell_type": "code",
   "execution_count": 1,
   "id": "9cc26f17",
   "metadata": {},
   "outputs": [],
   "source": [
    "import numpy as np\n",
    "from numpy import linalg as LA"
   ]
  },
  {
   "cell_type": "code",
   "execution_count": 2,
   "id": "9dd094e0",
   "metadata": {},
   "outputs": [],
   "source": [
    "def jacobi_solve(B, c, eps):\n",
    "\n",
    "    n = 0\n",
    "    size = len(A)\n",
    "    q = LA.norm(B)\n",
    "    stop = (1 - q) / q * eps\n",
    "    \n",
    "    x = c.copy()\n",
    "    \n",
    "    while True:\n",
    "        x_old = x.copy()\n",
    "        x = c + B@x\n",
    "        n += 1\n",
    "        \n",
    "        if LA.norm(x - x_old) <= stop:\n",
    "            return x, n"
   ]
  },
  {
   "cell_type": "code",
   "execution_count": 3,
   "id": "e3f7d02c",
   "metadata": {},
   "outputs": [],
   "source": [
    "def gauss_seidel_solve(B, c, A, eps):\n",
    "    \n",
    "    U = np.triu(A,1)\n",
    "    L = np.tril(A,-1)\n",
    "    D = np.tril(np.triu(A))    \n",
    "    n = 0\n",
    "    LDInvU = LA.inv(L+D)@U\n",
    "    LDInvb = LA.inv(L+D)@b\n",
    "    t = LA.norm(LA.inv(L+D)@U)\n",
    "    stop = (1 - t) / t * eps\n",
    "    \n",
    "    x = c.copy()\n",
    "    \n",
    "    while True:\n",
    "        \n",
    "        x_old = x.copy()\n",
    "#         for i in range(size): x[i] = B[i] @ x + c[i]\n",
    "        x = -LDInvU@x + LDInvb\n",
    "        n += 1\n",
    "        \n",
    "        if LA.norm(x - x_old) <= stop:\n",
    "            return x, n"
   ]
  },
  {
   "cell_type": "code",
   "execution_count": 4,
   "id": "22ab354f",
   "metadata": {},
   "outputs": [],
   "source": [
    "def relax_solve(B, c, eps, w=None):\n",
    "    \n",
    "    U = np.triu(A,1)\n",
    "    L = np.tril(A,-1)\n",
    "    D = np.tril(np.triu(A))\n",
    "    t = LA.norm(LA.inv(L+D)@U)\n",
    "    stop = (1 - t) / t * eps\n",
    "    \n",
    "    if w is None:\n",
    "        s = np.max(np.abs(LA.eig(B)[1]))\n",
    "        w = 2 / (1 + np.sqrt(1 - s**2))\n",
    "        \n",
    "    n = 0    \n",
    "    x, x_old = c.copy(), c.copy()\n",
    "\n",
    "    while True:\n",
    "        x_old = x.copy()\n",
    "        \n",
    "        for i in range(size):\n",
    "            x[i] = B[i] @ x + c[i]\n",
    "            x[i] = x_old[i]*(1-w) + x[i]*w\n",
    "        n += 1\n",
    "        \n",
    "        if LA.norm(x - x_old) <= stop:\n",
    "            return x, n"
   ]
  },
  {
   "cell_type": "code",
   "execution_count": 5,
   "id": "045d38dd",
   "metadata": {},
   "outputs": [],
   "source": [
    "size = 18\n",
    "eps = 1e-5"
   ]
  },
  {
   "cell_type": "code",
   "execution_count": 6,
   "id": "28dd5d42",
   "metadata": {},
   "outputs": [],
   "source": [
    "a = np.arange(1, size+1)\n",
    "A = np.array([a * np.concatenate((np.ones(i)*-1, np.ones(size-i))) for i in range(size)], dtype=float)\n",
    "b = np.arange(1, size+1, dtype=float)\n",
    "A[range(size), range(size)] = 330\n",
    "\n",
    "\n",
    "# A[0, 0] = 1\n",
    "\n",
    "# A[1:] = A[1:] + A[0]\n",
    "# b[1:] = b[1:] + b[0]\n",
    "\n",
    "# for row1 in range(size-1, 0, -1):\n",
    "#     for row2 in range(row1-1, -1, -1):\n",
    "#         A[row2] = A[row2] - A[row1]*A[row2, row1]/A[row1, row1]\n",
    "#         b[row2] = b[row2] - b[row1]**A[row2, row1]/A[row1, row1]\n",
    "    \n",
    "\n",
    "# A = np.diag(A[range(size), range(size)])"
   ]
  },
  {
   "cell_type": "code",
   "execution_count": 7,
   "id": "8e9d5da5",
   "metadata": {},
   "outputs": [
    {
     "data": {
      "text/plain": [
       "array([[330.,   2.,   3.,   4.,   5.,   6.,   7.,   8.,   9.,  10.,  11.,\n",
       "         12.,  13.,  14.,  15.,  16.,  17.,  18.],\n",
       "       [ -1., 330.,   3.,   4.,   5.,   6.,   7.,   8.,   9.,  10.,  11.,\n",
       "         12.,  13.,  14.,  15.,  16.,  17.,  18.],\n",
       "       [ -1.,  -2., 330.,   4.,   5.,   6.,   7.,   8.,   9.,  10.,  11.,\n",
       "         12.,  13.,  14.,  15.,  16.,  17.,  18.],\n",
       "       [ -1.,  -2.,  -3., 330.,   5.,   6.,   7.,   8.,   9.,  10.,  11.,\n",
       "         12.,  13.,  14.,  15.,  16.,  17.,  18.],\n",
       "       [ -1.,  -2.,  -3.,  -4., 330.,   6.,   7.,   8.,   9.,  10.,  11.,\n",
       "         12.,  13.,  14.,  15.,  16.,  17.,  18.],\n",
       "       [ -1.,  -2.,  -3.,  -4.,  -5., 330.,   7.,   8.,   9.,  10.,  11.,\n",
       "         12.,  13.,  14.,  15.,  16.,  17.,  18.],\n",
       "       [ -1.,  -2.,  -3.,  -4.,  -5.,  -6., 330.,   8.,   9.,  10.,  11.,\n",
       "         12.,  13.,  14.,  15.,  16.,  17.,  18.],\n",
       "       [ -1.,  -2.,  -3.,  -4.,  -5.,  -6.,  -7., 330.,   9.,  10.,  11.,\n",
       "         12.,  13.,  14.,  15.,  16.,  17.,  18.],\n",
       "       [ -1.,  -2.,  -3.,  -4.,  -5.,  -6.,  -7.,  -8., 330.,  10.,  11.,\n",
       "         12.,  13.,  14.,  15.,  16.,  17.,  18.],\n",
       "       [ -1.,  -2.,  -3.,  -4.,  -5.,  -6.,  -7.,  -8.,  -9., 330.,  11.,\n",
       "         12.,  13.,  14.,  15.,  16.,  17.,  18.],\n",
       "       [ -1.,  -2.,  -3.,  -4.,  -5.,  -6.,  -7.,  -8.,  -9., -10., 330.,\n",
       "         12.,  13.,  14.,  15.,  16.,  17.,  18.],\n",
       "       [ -1.,  -2.,  -3.,  -4.,  -5.,  -6.,  -7.,  -8.,  -9., -10., -11.,\n",
       "        330.,  13.,  14.,  15.,  16.,  17.,  18.],\n",
       "       [ -1.,  -2.,  -3.,  -4.,  -5.,  -6.,  -7.,  -8.,  -9., -10., -11.,\n",
       "        -12., 330.,  14.,  15.,  16.,  17.,  18.],\n",
       "       [ -1.,  -2.,  -3.,  -4.,  -5.,  -6.,  -7.,  -8.,  -9., -10., -11.,\n",
       "        -12., -13., 330.,  15.,  16.,  17.,  18.],\n",
       "       [ -1.,  -2.,  -3.,  -4.,  -5.,  -6.,  -7.,  -8.,  -9., -10., -11.,\n",
       "        -12., -13., -14., 330.,  16.,  17.,  18.],\n",
       "       [ -1.,  -2.,  -3.,  -4.,  -5.,  -6.,  -7.,  -8.,  -9., -10., -11.,\n",
       "        -12., -13., -14., -15., 330.,  17.,  18.],\n",
       "       [ -1.,  -2.,  -3.,  -4.,  -5.,  -6.,  -7.,  -8.,  -9., -10., -11.,\n",
       "        -12., -13., -14., -15., -16., 330.,  18.],\n",
       "       [ -1.,  -2.,  -3.,  -4.,  -5.,  -6.,  -7.,  -8.,  -9., -10., -11.,\n",
       "        -12., -13., -14., -15., -16., -17., 330.]])"
      ]
     },
     "execution_count": 7,
     "metadata": {},
     "output_type": "execute_result"
    }
   ],
   "source": [
    "A"
   ]
  },
  {
   "cell_type": "code",
   "execution_count": 8,
   "id": "1182aff5",
   "metadata": {},
   "outputs": [
    {
     "data": {
      "text/plain": [
       "array([ 1.,  2.,  3.,  4.,  5.,  6.,  7.,  8.,  9., 10., 11., 12., 13.,\n",
       "       14., 15., 16., 17., 18.])"
      ]
     },
     "execution_count": 8,
     "metadata": {},
     "output_type": "execute_result"
    }
   ],
   "source": [
    "b"
   ]
  },
  {
   "cell_type": "code",
   "execution_count": 9,
   "id": "1ee2cca0",
   "metadata": {},
   "outputs": [],
   "source": [
    "B = np.array([-A[i]/A[i, i] for i in range(size)])\n",
    "B[range(size), range(size)] = 0\n",
    "\n",
    "c = np.array([b[i]/A[i, i] for i in range(size)])"
   ]
  },
  {
   "cell_type": "code",
   "execution_count": 10,
   "id": "a811cbcc",
   "metadata": {},
   "outputs": [
    {
     "data": {
      "text/plain": [
       "array([[ 0.   , -0.006, -0.009, -0.012, -0.015, -0.018, -0.021, -0.024,\n",
       "        -0.027, -0.03 , -0.033, -0.036, -0.039, -0.042, -0.045, -0.048,\n",
       "        -0.052, -0.055],\n",
       "       [ 0.003,  0.   , -0.009, -0.012, -0.015, -0.018, -0.021, -0.024,\n",
       "        -0.027, -0.03 , -0.033, -0.036, -0.039, -0.042, -0.045, -0.048,\n",
       "        -0.052, -0.055],\n",
       "       [ 0.003,  0.006,  0.   , -0.012, -0.015, -0.018, -0.021, -0.024,\n",
       "        -0.027, -0.03 , -0.033, -0.036, -0.039, -0.042, -0.045, -0.048,\n",
       "        -0.052, -0.055],\n",
       "       [ 0.003,  0.006,  0.009,  0.   , -0.015, -0.018, -0.021, -0.024,\n",
       "        -0.027, -0.03 , -0.033, -0.036, -0.039, -0.042, -0.045, -0.048,\n",
       "        -0.052, -0.055],\n",
       "       [ 0.003,  0.006,  0.009,  0.012,  0.   , -0.018, -0.021, -0.024,\n",
       "        -0.027, -0.03 , -0.033, -0.036, -0.039, -0.042, -0.045, -0.048,\n",
       "        -0.052, -0.055],\n",
       "       [ 0.003,  0.006,  0.009,  0.012,  0.015,  0.   , -0.021, -0.024,\n",
       "        -0.027, -0.03 , -0.033, -0.036, -0.039, -0.042, -0.045, -0.048,\n",
       "        -0.052, -0.055],\n",
       "       [ 0.003,  0.006,  0.009,  0.012,  0.015,  0.018,  0.   , -0.024,\n",
       "        -0.027, -0.03 , -0.033, -0.036, -0.039, -0.042, -0.045, -0.048,\n",
       "        -0.052, -0.055],\n",
       "       [ 0.003,  0.006,  0.009,  0.012,  0.015,  0.018,  0.021,  0.   ,\n",
       "        -0.027, -0.03 , -0.033, -0.036, -0.039, -0.042, -0.045, -0.048,\n",
       "        -0.052, -0.055],\n",
       "       [ 0.003,  0.006,  0.009,  0.012,  0.015,  0.018,  0.021,  0.024,\n",
       "         0.   , -0.03 , -0.033, -0.036, -0.039, -0.042, -0.045, -0.048,\n",
       "        -0.052, -0.055],\n",
       "       [ 0.003,  0.006,  0.009,  0.012,  0.015,  0.018,  0.021,  0.024,\n",
       "         0.027,  0.   , -0.033, -0.036, -0.039, -0.042, -0.045, -0.048,\n",
       "        -0.052, -0.055],\n",
       "       [ 0.003,  0.006,  0.009,  0.012,  0.015,  0.018,  0.021,  0.024,\n",
       "         0.027,  0.03 ,  0.   , -0.036, -0.039, -0.042, -0.045, -0.048,\n",
       "        -0.052, -0.055],\n",
       "       [ 0.003,  0.006,  0.009,  0.012,  0.015,  0.018,  0.021,  0.024,\n",
       "         0.027,  0.03 ,  0.033,  0.   , -0.039, -0.042, -0.045, -0.048,\n",
       "        -0.052, -0.055],\n",
       "       [ 0.003,  0.006,  0.009,  0.012,  0.015,  0.018,  0.021,  0.024,\n",
       "         0.027,  0.03 ,  0.033,  0.036,  0.   , -0.042, -0.045, -0.048,\n",
       "        -0.052, -0.055],\n",
       "       [ 0.003,  0.006,  0.009,  0.012,  0.015,  0.018,  0.021,  0.024,\n",
       "         0.027,  0.03 ,  0.033,  0.036,  0.039,  0.   , -0.045, -0.048,\n",
       "        -0.052, -0.055],\n",
       "       [ 0.003,  0.006,  0.009,  0.012,  0.015,  0.018,  0.021,  0.024,\n",
       "         0.027,  0.03 ,  0.033,  0.036,  0.039,  0.042,  0.   , -0.048,\n",
       "        -0.052, -0.055],\n",
       "       [ 0.003,  0.006,  0.009,  0.012,  0.015,  0.018,  0.021,  0.024,\n",
       "         0.027,  0.03 ,  0.033,  0.036,  0.039,  0.042,  0.045,  0.   ,\n",
       "        -0.052, -0.055],\n",
       "       [ 0.003,  0.006,  0.009,  0.012,  0.015,  0.018,  0.021,  0.024,\n",
       "         0.027,  0.03 ,  0.033,  0.036,  0.039,  0.042,  0.045,  0.048,\n",
       "         0.   , -0.055],\n",
       "       [ 0.003,  0.006,  0.009,  0.012,  0.015,  0.018,  0.021,  0.024,\n",
       "         0.027,  0.03 ,  0.033,  0.036,  0.039,  0.042,  0.045,  0.048,\n",
       "         0.052,  0.   ]])"
      ]
     },
     "execution_count": 10,
     "metadata": {},
     "output_type": "execute_result"
    }
   ],
   "source": [
    "np.round(B, 3)"
   ]
  },
  {
   "cell_type": "code",
   "execution_count": 11,
   "id": "6718458c",
   "metadata": {},
   "outputs": [
    {
     "data": {
      "text/plain": [
       "array([0.003, 0.006, 0.009, 0.012, 0.015, 0.018, 0.021, 0.024, 0.027,\n",
       "       0.03 , 0.033, 0.036, 0.039, 0.042, 0.045, 0.048, 0.052, 0.055])"
      ]
     },
     "execution_count": 11,
     "metadata": {},
     "output_type": "execute_result"
    }
   ],
   "source": [
    "np.round(c, 3)"
   ]
  },
  {
   "cell_type": "code",
   "execution_count": 12,
   "id": "f3b0eefc",
   "metadata": {},
   "outputs": [
    {
     "data": {
      "text/plain": [
       "array([-0.01296935, -0.01003919, -0.00713459, -0.00422031, -0.00126025,\n",
       "        0.00178338,  0.00495113,  0.00828736,  0.01184152,  0.01566961,\n",
       "        0.01983595,  0.02441528,  0.02949535,  0.03518008,  0.04159349,\n",
       "        0.04888456,  0.05723341,  0.06685896])"
      ]
     },
     "execution_count": 12,
     "metadata": {},
     "output_type": "execute_result"
    }
   ],
   "source": [
    "x = LA.solve(A, b)\n",
    "x"
   ]
  },
  {
   "cell_type": "code",
   "execution_count": 13,
   "id": "fda6d63f",
   "metadata": {},
   "outputs": [
    {
     "data": {
      "text/plain": [
       "(19.34946009709336, 0.5737844979935769, 0.13916318185703072)"
      ]
     },
     "execution_count": 13,
     "metadata": {},
     "output_type": "execute_result"
    }
   ],
   "source": [
    "norm_B = LA.norm(B)\n",
    "norm_c = LA.norm(c)\n",
    "# k = np.log(np.e * (1 - norm_B) / norm_c) / np.log(norm_B)\n",
    "k = np.log(eps / (norm_c + norm_c / (1 - norm_B))) / np.log(norm_B)\n",
    "k, norm_B, norm_c"
   ]
  },
  {
   "cell_type": "code",
   "execution_count": 14,
   "id": "dc248188",
   "metadata": {},
   "outputs": [
    {
     "data": {
      "text/plain": [
       "array([-0.01296954, -0.01003939, -0.00713479, -0.00422051, -0.00126047,\n",
       "        0.00178315,  0.0049509 ,  0.00828713,  0.01184129,  0.01566938,\n",
       "        0.01983574,  0.02441509,  0.0294952 ,  0.03517998,  0.04159345,\n",
       "        0.04888459,  0.05723351,  0.06685912])"
      ]
     },
     "execution_count": 14,
     "metadata": {},
     "output_type": "execute_result"
    }
   ],
   "source": [
    "x_appr_jac, n = jacobi_solve(B, c, eps)\n",
    "x_appr_jac"
   ]
  },
  {
   "cell_type": "code",
   "execution_count": 15,
   "id": "fe936b25",
   "metadata": {},
   "outputs": [
    {
     "data": {
      "text/plain": [
       "(7.898513734500816e-07, 10)"
      ]
     },
     "execution_count": 15,
     "metadata": {},
     "output_type": "execute_result"
    }
   ],
   "source": [
    "LA.norm(x_appr_jac - x), n"
   ]
  },
  {
   "cell_type": "code",
   "execution_count": 16,
   "id": "d8f68c2e",
   "metadata": {},
   "outputs": [
    {
     "data": {
      "text/plain": [
       "(16.81934390995068, 0.5651783007799079)"
      ]
     },
     "execution_count": 16,
     "metadata": {},
     "output_type": "execute_result"
    }
   ],
   "source": [
    "U = np.triu(A,1)\n",
    "L = np.tril(A,-1)\n",
    "D = np.tril(np.triu(A))\n",
    "\n",
    "t = LA.norm(LA.inv(L+D)@U)\n",
    "\n",
    "x0 = c\n",
    "x1 = x0.copy()\n",
    "for i in range(size): x1[i] = B[i] @ x1 + c[i]\n",
    "\n",
    "np.log(eps*(1-t)/LA.norm(x1-x0))/np.log(t), t"
   ]
  },
  {
   "cell_type": "code",
   "execution_count": 17,
   "id": "4f5cf79c",
   "metadata": {},
   "outputs": [
    {
     "data": {
      "text/plain": [
       "array([-0.01296956, -0.0100394 , -0.00713479, -0.0042205 , -0.00126044,\n",
       "        0.00178321,  0.00495097,  0.00828721,  0.01184138,  0.01566948,\n",
       "        0.01983583,  0.02441517,  0.02949525,  0.03517999,  0.04159341,\n",
       "        0.04888449,  0.05723335,  0.0668589 ])"
      ]
     },
     "execution_count": 17,
     "metadata": {},
     "output_type": "execute_result"
    }
   ],
   "source": [
    "x_appr_gau, n = gauss_seidel_solve(B, c, A, eps)\n",
    "x_appr_gau"
   ]
  },
  {
   "cell_type": "code",
   "execution_count": 18,
   "id": "abecb66c",
   "metadata": {},
   "outputs": [
    {
     "data": {
      "text/plain": [
       "(6.069411855623665e-07, 6)"
      ]
     },
     "execution_count": 18,
     "metadata": {},
     "output_type": "execute_result"
    }
   ],
   "source": [
    "LA.norm(x_appr_gau - x), n"
   ]
  },
  {
   "cell_type": "code",
   "execution_count": 19,
   "id": "15aa5b41",
   "metadata": {},
   "outputs": [
    {
     "data": {
      "text/plain": [
       "array([-0.01296914, -0.01003897, -0.00713437, -0.00422008, -0.00126003,\n",
       "        0.00178359,  0.00495131,  0.0082875 ,  0.01184159,  0.0156696 ,\n",
       "        0.01983586,  0.02441512,  0.02949516,  0.03517993,  0.04159345,\n",
       "        0.04888471,  0.05723365,  0.06685884])"
      ]
     },
     "execution_count": 19,
     "metadata": {},
     "output_type": "execute_result"
    }
   ],
   "source": [
    "x_appr_rel, n = relax_solve(B, c, eps, 0.9)\n",
    "x_appr_rel"
   ]
  },
  {
   "cell_type": "code",
   "execution_count": 20,
   "id": "d7162ef6",
   "metadata": {},
   "outputs": [
    {
     "data": {
      "text/plain": [
       "(7.337640381373529e-07, 5)"
      ]
     },
     "execution_count": 20,
     "metadata": {},
     "output_type": "execute_result"
    }
   ],
   "source": [
    "LA.norm(x_appr_rel - x), n"
   ]
  },
  {
   "cell_type": "markdown",
   "id": "0103e3f6",
   "metadata": {},
   "source": [
    "$$k \\leq \\frac{ln(\\frac{\\mathcal{E}(1-t)}{\\lVert x^1 - x^0 \\rVert})}{ln(t)}$$"
   ]
  },
  {
   "cell_type": "code",
   "execution_count": null,
   "id": "fcb50161",
   "metadata": {},
   "outputs": [],
   "source": []
  }
 ],
 "metadata": {
  "kernelspec": {
   "display_name": "myenv",
   "language": "python",
   "name": "myenv"
  },
  "language_info": {
   "codemirror_mode": {
    "name": "ipython",
    "version": 3
   },
   "file_extension": ".py",
   "mimetype": "text/x-python",
   "name": "python",
   "nbconvert_exporter": "python",
   "pygments_lexer": "ipython3",
   "version": "3.9.13"
  }
 },
 "nbformat": 4,
 "nbformat_minor": 5
}
