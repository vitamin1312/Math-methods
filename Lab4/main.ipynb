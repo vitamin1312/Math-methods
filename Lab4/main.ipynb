{
 "cells": [
  {
   "cell_type": "code",
   "execution_count": 383,
   "id": "9cc26f17",
   "metadata": {},
   "outputs": [],
   "source": [
    "import numpy as np\n",
    "from numpy import linalg as LA"
   ]
  },
  {
   "cell_type": "code",
   "execution_count": 384,
   "id": "9dd094e0",
   "metadata": {},
   "outputs": [],
   "source": [
    "def jacobi_solve(B, c, eps):\n",
    "\n",
    "    n = 0\n",
    "    size = len(A)\n",
    "    q = LA.norm(B, ord=np.inf)\n",
    "    stop = (1 - q) / q * eps\n",
    "    \n",
    "    x = c.copy()\n",
    "    \n",
    "    while True:\n",
    "        x_old = x.copy()\n",
    "        x = c + B@x\n",
    "        n += 1\n",
    "        \n",
    "        if LA.norm(x - x_old) <= stop:\n",
    "            return x, n"
   ]
  },
  {
   "cell_type": "code",
   "execution_count": 385,
   "id": "22ab354f",
   "metadata": {},
   "outputs": [],
   "source": [
    "def gauss_seidel_solve(B, c, eps):\n",
    "    \n",
    "    n = 0\n",
    "    q = LA.norm(B, ord=np.inf)\n",
    "    stop = (1 - q) / q * eps\n",
    "    \n",
    "    x = c.copy()\n",
    "    \n",
    "    while True:\n",
    "        x_old = x.copy()\n",
    "        \n",
    "        for i in range(size): x[i] = B[i] @ x + c[i]\n",
    "        n += 1\n",
    "        \n",
    "        if LA.norm(x - x_old) <= stop:\n",
    "            return x, n"
   ]
  },
  {
   "cell_type": "code",
   "execution_count": 386,
   "id": "045d38dd",
   "metadata": {},
   "outputs": [],
   "source": [
    "size = 5"
   ]
  },
  {
   "cell_type": "code",
   "execution_count": 437,
   "id": "28dd5d42",
   "metadata": {},
   "outputs": [],
   "source": [
    "a = np.arange(1, size+1)\n",
    "A = np.array([a * np.concatenate((np.ones(i)*-1, np.ones(size-i))) for i in range(size)], dtype=float)\n",
    "A[range(size), range(size)] = 0\n",
    "A[0, 0] = 1\n",
    "\n",
    "A[1:] = A[1:] + A[0]\n",
    "\n",
    "# for col in range(size-1):\n",
    "#     for j in range(col+1, size-2):\n",
    "#         A[:, j] -= A[:, col] * A[j, j]\n",
    "        \n",
    "\n",
    "# b = np.arange(1, size+1, dtype=float)\n",
    "# A = np.roll(A, -1, axis=1)\n",
    "# b = np.roll(b, -1)"
   ]
  },
  {
   "cell_type": "code",
   "execution_count": 438,
   "id": "8e9d5da5",
   "metadata": {},
   "outputs": [
    {
     "data": {
      "text/plain": [
       "array([[ 1.,  2.,  3.,  4.,  5.],\n",
       "       [ 0.,  2.,  6.,  8., 10.],\n",
       "       [ 0.,  0.,  3.,  8., 10.],\n",
       "       [ 0.,  0.,  0.,  4., 10.],\n",
       "       [ 0.,  0.,  0.,  0.,  5.]])"
      ]
     },
     "execution_count": 438,
     "metadata": {},
     "output_type": "execute_result"
    }
   ],
   "source": [
    "A"
   ]
  },
  {
   "cell_type": "code",
   "execution_count": 377,
   "id": "1182aff5",
   "metadata": {},
   "outputs": [
    {
     "data": {
      "text/plain": [
       "array([ 2.,  3.,  4.,  5.,  6.,  7.,  8.,  9., 10., 11., 12., 13., 14.,\n",
       "       15., 16., 17., 18.,  1.])"
      ]
     },
     "execution_count": 377,
     "metadata": {},
     "output_type": "execute_result"
    }
   ],
   "source": [
    "b"
   ]
  },
  {
   "cell_type": "code",
   "execution_count": 378,
   "id": "1ee2cca0",
   "metadata": {},
   "outputs": [],
   "source": [
    "B = np.array([-A[i]/A[i, i] for i in range(size)])\n",
    "B[range(size), range(size)] = 0\n",
    "\n",
    "c = np.array([b[i]/A[i, i] for i in range(size)])"
   ]
  },
  {
   "cell_type": "code",
   "execution_count": 379,
   "id": "a811cbcc",
   "metadata": {},
   "outputs": [
    {
     "data": {
      "text/plain": [
       "array([[  0.   ,  -2.   ,  -3.   ,  -4.   ,  -5.   ,  -6.   ,  -7.   ,\n",
       "         -8.   ,  -9.   , -10.   , -11.   , -12.   , -13.   , -14.   ,\n",
       "        -15.   , -16.   , -17.   , -18.   ],\n",
       "       [ -0.   ,   0.   ,  -3.   ,  -4.   ,  -5.   ,  -6.   ,  -7.   ,\n",
       "         -8.   ,  -9.   , -10.   , -11.   , -12.   , -13.   , -14.   ,\n",
       "        -15.   , -16.   , -17.   , -18.   ],\n",
       "       [ -0.   ,  -0.   ,   0.   ,  -2.667,  -3.333,  -4.   ,  -4.667,\n",
       "         -5.333,  -6.   ,  -6.667,  -7.333,  -8.   ,  -8.667,  -9.333,\n",
       "        -10.   , -10.667, -11.333, -12.   ],\n",
       "       [ -0.   ,  -0.   ,  -0.   ,   0.   ,  -2.5  ,  -3.   ,  -3.5  ,\n",
       "         -4.   ,  -4.5  ,  -5.   ,  -5.5  ,  -6.   ,  -6.5  ,  -7.   ,\n",
       "         -7.5  ,  -8.   ,  -8.5  ,  -9.   ],\n",
       "       [ -0.   ,  -0.   ,  -0.   ,  -0.   ,   0.   ,  -2.4  ,  -2.8  ,\n",
       "         -3.2  ,  -3.6  ,  -4.   ,  -4.4  ,  -4.8  ,  -5.2  ,  -5.6  ,\n",
       "         -6.   ,  -6.4  ,  -6.8  ,  -7.2  ],\n",
       "       [ -0.   ,  -0.   ,  -0.   ,  -0.   ,  -0.   ,   0.   ,  -2.333,\n",
       "         -2.667,  -3.   ,  -3.333,  -3.667,  -4.   ,  -4.333,  -4.667,\n",
       "         -5.   ,  -5.333,  -5.667,  -6.   ],\n",
       "       [ -0.   ,  -0.   ,  -0.   ,  -0.   ,  -0.   ,  -0.   ,   0.   ,\n",
       "         -2.286,  -2.571,  -2.857,  -3.143,  -3.429,  -3.714,  -4.   ,\n",
       "         -4.286,  -4.571,  -4.857,  -5.143],\n",
       "       [ -0.   ,  -0.   ,  -0.   ,  -0.   ,  -0.   ,  -0.   ,  -0.   ,\n",
       "          0.   ,  -2.25 ,  -2.5  ,  -2.75 ,  -3.   ,  -3.25 ,  -3.5  ,\n",
       "         -3.75 ,  -4.   ,  -4.25 ,  -4.5  ],\n",
       "       [ -0.   ,  -0.   ,  -0.   ,  -0.   ,  -0.   ,  -0.   ,  -0.   ,\n",
       "         -0.   ,   0.   ,  -2.222,  -2.444,  -2.667,  -2.889,  -3.111,\n",
       "         -3.333,  -3.556,  -3.778,  -4.   ],\n",
       "       [ -0.   ,  -0.   ,  -0.   ,  -0.   ,  -0.   ,  -0.   ,  -0.   ,\n",
       "         -0.   ,  -0.   ,   0.   ,  -2.2  ,  -2.4  ,  -2.6  ,  -2.8  ,\n",
       "         -3.   ,  -3.2  ,  -3.4  ,  -3.6  ],\n",
       "       [ -0.   ,  -0.   ,  -0.   ,  -0.   ,  -0.   ,  -0.   ,  -0.   ,\n",
       "         -0.   ,  -0.   ,  -0.   ,   0.   ,  -2.182,  -2.364,  -2.545,\n",
       "         -2.727,  -2.909,  -3.091,  -3.273],\n",
       "       [ -0.   ,  -0.   ,  -0.   ,  -0.   ,  -0.   ,  -0.   ,  -0.   ,\n",
       "         -0.   ,  -0.   ,  -0.   ,  -0.   ,   0.   ,  -2.167,  -2.333,\n",
       "         -2.5  ,  -2.667,  -2.833,  -3.   ],\n",
       "       [ -0.   ,  -0.   ,  -0.   ,  -0.   ,  -0.   ,  -0.   ,  -0.   ,\n",
       "         -0.   ,  -0.   ,  -0.   ,  -0.   ,  -0.   ,   0.   ,  -2.154,\n",
       "         -2.308,  -2.462,  -2.615,  -2.769],\n",
       "       [ -0.   ,  -0.   ,  -0.   ,  -0.   ,  -0.   ,  -0.   ,  -0.   ,\n",
       "         -0.   ,  -0.   ,  -0.   ,  -0.   ,  -0.   ,  -0.   ,   0.   ,\n",
       "         -2.143,  -2.286,  -2.429,  -2.571],\n",
       "       [ -0.   ,  -0.   ,  -0.   ,  -0.   ,  -0.   ,  -0.   ,  -0.   ,\n",
       "         -0.   ,  -0.   ,  -0.   ,  -0.   ,  -0.   ,  -0.   ,  -0.   ,\n",
       "          0.   ,  -2.133,  -2.267,  -2.4  ],\n",
       "       [ -0.   ,  -0.   ,  -0.   ,  -0.   ,  -0.   ,  -0.   ,  -0.   ,\n",
       "         -0.   ,  -0.   ,  -0.   ,  -0.   ,  -0.   ,  -0.   ,  -0.   ,\n",
       "         -0.   ,   0.   ,  -2.125,  -2.25 ],\n",
       "       [ -0.   ,  -0.   ,  -0.   ,  -0.   ,  -0.   ,  -0.   ,  -0.   ,\n",
       "         -0.   ,  -0.   ,  -0.   ,  -0.   ,  -0.   ,  -0.   ,  -0.   ,\n",
       "         -0.   ,  -0.   ,   0.   ,  -2.118],\n",
       "       [ -0.   ,  -0.   ,  -0.   ,  -0.   ,  -0.   ,  -0.   ,  -0.   ,\n",
       "         -0.   ,  -0.   ,  -0.   ,  -0.   ,  -0.   ,  -0.   ,  -0.   ,\n",
       "         -0.   ,  -0.   ,  -0.   ,   0.   ]])"
      ]
     },
     "execution_count": 379,
     "metadata": {},
     "output_type": "execute_result"
    }
   ],
   "source": [
    "np.round(B, 3)"
   ]
  },
  {
   "cell_type": "code",
   "execution_count": 380,
   "id": "f3b0eefc",
   "metadata": {},
   "outputs": [
    {
     "data": {
      "text/plain": [
       "array([1.   , 1.5  , 1.333, 1.25 , 1.2  , 1.167, 1.143, 1.125, 1.111,\n",
       "       1.1  , 1.091, 1.083, 1.077, 1.071, 1.067, 1.062, 1.059, 0.056])"
      ]
     },
     "execution_count": 380,
     "metadata": {},
     "output_type": "execute_result"
    }
   ],
   "source": [
    "np.round(c, 3)"
   ]
  },
  {
   "cell_type": "code",
   "execution_count": 381,
   "id": "fda6d63f",
   "metadata": {},
   "outputs": [
    {
     "data": {
      "text/plain": [
       "(-1.9144599365353685, 82.64650405519583, 4.740252968575838)"
      ]
     },
     "execution_count": 381,
     "metadata": {},
     "output_type": "execute_result"
    }
   ],
   "source": [
    "norm_B = LA.norm(B, ord='fro')\n",
    "norm_c = LA.norm(c)\n",
    "# k = np.log(np.e * (1 - norm_B) / norm_c) / np.log(norm_B)\n",
    "k = np.log(0.001 / (norm_c + norm_c / (1 - norm_B))) / np.log(norm_B)\n",
    "k, norm_B, norm_c"
   ]
  },
  {
   "cell_type": "code",
   "execution_count": 382,
   "id": "d8f68c2e",
   "metadata": {},
   "outputs": [
    {
     "ename": "KeyboardInterrupt",
     "evalue": "",
     "output_type": "error",
     "traceback": [
      "\u001b[1;31m---------------------------------------------------------------------------\u001b[0m",
      "\u001b[1;31mKeyboardInterrupt\u001b[0m                         Traceback (most recent call last)",
      "Cell \u001b[1;32mIn [382], line 1\u001b[0m\n\u001b[1;32m----> 1\u001b[0m x_appr, n \u001b[38;5;241m=\u001b[39m \u001b[43mjacobi_solve\u001b[49m\u001b[43m(\u001b[49m\u001b[43mB\u001b[49m\u001b[43m,\u001b[49m\u001b[43m \u001b[49m\u001b[43mc\u001b[49m\u001b[43m,\u001b[49m\u001b[43m \u001b[49m\u001b[38;5;241;43m0.001\u001b[39;49m\u001b[43m)\u001b[49m\n\u001b[0;32m      2\u001b[0m x_appr, n\n",
      "Cell \u001b[1;32mIn [372], line 15\u001b[0m, in \u001b[0;36mjacobi_solve\u001b[1;34m(B, c, eps)\u001b[0m\n\u001b[0;32m     12\u001b[0m x \u001b[38;5;241m=\u001b[39m c \u001b[38;5;241m+\u001b[39m B\u001b[38;5;129m@x\u001b[39m\n\u001b[0;32m     13\u001b[0m n \u001b[38;5;241m+\u001b[39m\u001b[38;5;241m=\u001b[39m \u001b[38;5;241m1\u001b[39m\n\u001b[1;32m---> 15\u001b[0m \u001b[38;5;28;01mif\u001b[39;00m \u001b[43mLA\u001b[49m\u001b[38;5;241;43m.\u001b[39;49m\u001b[43mnorm\u001b[49m\u001b[43m(\u001b[49m\u001b[43mx\u001b[49m\u001b[43m \u001b[49m\u001b[38;5;241;43m-\u001b[39;49m\u001b[43m \u001b[49m\u001b[43mx_old\u001b[49m\u001b[43m)\u001b[49m \u001b[38;5;241m<\u001b[39m\u001b[38;5;241m=\u001b[39m stop:\n\u001b[0;32m     16\u001b[0m     \u001b[38;5;28;01mreturn\u001b[39;00m x, n\n",
      "File \u001b[1;32m<__array_function__ internals>:180\u001b[0m, in \u001b[0;36mnorm\u001b[1;34m(*args, **kwargs)\u001b[0m\n",
      "File \u001b[1;32m~\\anaconda3\\lib\\site-packages\\numpy\\linalg\\linalg.py:2526\u001b[0m, in \u001b[0;36mnorm\u001b[1;34m(x, ord, axis, keepdims)\u001b[0m\n\u001b[0;32m   2524\u001b[0m     sqnorm \u001b[38;5;241m=\u001b[39m x_real\u001b[38;5;241m.\u001b[39mdot(x_real) \u001b[38;5;241m+\u001b[39m x_imag\u001b[38;5;241m.\u001b[39mdot(x_imag)\n\u001b[0;32m   2525\u001b[0m \u001b[38;5;28;01melse\u001b[39;00m:\n\u001b[1;32m-> 2526\u001b[0m     sqnorm \u001b[38;5;241m=\u001b[39m \u001b[43mx\u001b[49m\u001b[38;5;241;43m.\u001b[39;49m\u001b[43mdot\u001b[49m\u001b[43m(\u001b[49m\u001b[43mx\u001b[49m\u001b[43m)\u001b[49m\n\u001b[0;32m   2527\u001b[0m ret \u001b[38;5;241m=\u001b[39m sqrt(sqnorm)\n\u001b[0;32m   2528\u001b[0m \u001b[38;5;28;01mif\u001b[39;00m keepdims:\n",
      "\u001b[1;31mKeyboardInterrupt\u001b[0m: "
     ]
    }
   ],
   "source": [
    "x_appr, n = jacobi_solve(B, c, 0.001)\n",
    "x_appr, n"
   ]
  },
  {
   "cell_type": "code",
   "execution_count": null,
   "id": "863a4ab4",
   "metadata": {},
   "outputs": [],
   "source": [
    "x_appr, n = gauss_seidel_solve(B, c, 0.001)\n",
    "x_appr, n"
   ]
  },
  {
   "cell_type": "code",
   "execution_count": null,
   "id": "4ad2abdd",
   "metadata": {},
   "outputs": [],
   "source": [
    "x = LA.solve(A, b)\n",
    "x"
   ]
  },
  {
   "cell_type": "code",
   "execution_count": null,
   "id": "9e0be222",
   "metadata": {},
   "outputs": [],
   "source": [
    "x - x_appr"
   ]
  },
  {
   "cell_type": "code",
   "execution_count": null,
   "id": "1ddfdab1",
   "metadata": {},
   "outputs": [],
   "source": []
  }
 ],
 "metadata": {
  "kernelspec": {
   "display_name": "myenv",
   "language": "python",
   "name": "myenv"
  },
  "language_info": {
   "codemirror_mode": {
    "name": "ipython",
    "version": 3
   },
   "file_extension": ".py",
   "mimetype": "text/x-python",
   "name": "python",
   "nbconvert_exporter": "python",
   "pygments_lexer": "ipython3",
   "version": "3.9.13"
  }
 },
 "nbformat": 4,
 "nbformat_minor": 5
}
