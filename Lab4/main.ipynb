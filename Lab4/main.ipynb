{
 "cells": [
  {
   "cell_type": "code",
   "execution_count": 368,
   "id": "9cc26f17",
   "metadata": {},
   "outputs": [
    {
     "ename": "ModuleNotFoundError",
     "evalue": "No module named 'numba'",
     "output_type": "error",
     "traceback": [
      "\u001b[1;31m---------------------------------------------------------------------------\u001b[0m",
      "\u001b[1;31mModuleNotFoundError\u001b[0m                       Traceback (most recent call last)",
      "Cell \u001b[1;32mIn [368], line 3\u001b[0m\n\u001b[0;32m      1\u001b[0m \u001b[38;5;28;01mimport\u001b[39;00m \u001b[38;5;21;01mnumpy\u001b[39;00m \u001b[38;5;28;01mas\u001b[39;00m \u001b[38;5;21;01mnp\u001b[39;00m\n\u001b[0;32m      2\u001b[0m \u001b[38;5;28;01mfrom\u001b[39;00m \u001b[38;5;21;01mnumpy\u001b[39;00m \u001b[38;5;28;01mimport\u001b[39;00m linalg \u001b[38;5;28;01mas\u001b[39;00m LA\n\u001b[1;32m----> 3\u001b[0m \u001b[38;5;28;01mfrom\u001b[39;00m \u001b[38;5;21;01mnumba\u001b[39;00m \u001b[38;5;28;01mimport\u001b[39;00m njit\n",
      "\u001b[1;31mModuleNotFoundError\u001b[0m: No module named 'numba'"
     ]
    }
   ],
   "source": [
    "import numpy as np\n",
    "from numpy import linalg as LA"
   ]
  },
  {
   "cell_type": "code",
   "execution_count": null,
   "id": "9dd094e0",
   "metadata": {},
   "outputs": [],
   "source": [
    "def jacobi_solve(B, c, eps):\n",
    "\n",
    "    n = 0\n",
    "    size = len(A)\n",
    "    q = LA.norm(B)\n",
    "    stop = (1 - q) / q * eps\n",
    "    \n",
    "    x = c.copy()\n",
    "    \n",
    "    while True:\n",
    "        x_old = x.copy()\n",
    "        x = c + B@x\n",
    "        n += 1\n",
    "        \n",
    "        if LA.norm(x - x_old) <= stop:\n",
    "            return x, n"
   ]
  },
  {
   "cell_type": "code",
   "execution_count": null,
   "id": "e3f7d02c",
   "metadata": {},
   "outputs": [],
   "source": [
    "def gauss_seidel_solve(B, c, A, eps):\n",
    "    \n",
    "    U = np.triu(A,1)\n",
    "    L = np.tril(A,-1)\n",
    "    D = np.tril(np.triu(A))    \n",
    "    n = 0\n",
    "    t = LA.norm(LA.inv(L+D)@U)\n",
    "    stop = (1 - t) / t * eps\n",
    "    \n",
    "    x = c.copy()\n",
    "    \n",
    "    while True:\n",
    "        \n",
    "        x_old = x.copy()\n",
    "        for i in range(size): x[i] = B[i] @ x + c[i]\n",
    "        n += 1\n",
    "        \n",
    "        if LA.norm(x - x_old) <= stop:\n",
    "            return x, n"
   ]
  },
  {
   "cell_type": "code",
   "execution_count": null,
   "id": "22ab354f",
   "metadata": {},
   "outputs": [],
   "source": [
    "def relax_solve(B, c, eps, w=None):\n",
    "    \n",
    "    U = np.triu(A,1)\n",
    "    L = np.tril(A,-1)\n",
    "    D = np.tril(np.triu(A))\n",
    "    t = LA.norm(LA.inv(L+D)@U)\n",
    "    stop = (1 - t) / t * eps\n",
    "    \n",
    "    if w is None:\n",
    "        s = np.max(np.abs(LA.eig(B)[1]))\n",
    "        w = 2 / (1 + np.sqrt(1 - s**2))\n",
    "        \n",
    "    n = 0    \n",
    "    x, x_old = c.copy(), c.copy()\n",
    "\n",
    "    while True:\n",
    "        x_old = x.copy()\n",
    "        \n",
    "        for i in range(size):\n",
    "            x[i] = B[i] @ x + c[i]\n",
    "            x[i] = x_old[i]*(1-w) + x[i]*w\n",
    "        n += 1\n",
    "        \n",
    "        if LA.norm(x - x_old) <= stop:\n",
    "            return x, n"
   ]
  },
  {
   "cell_type": "code",
   "execution_count": null,
   "id": "045d38dd",
   "metadata": {},
   "outputs": [],
   "source": [
    "size = 18\n",
    "eps = 1e-20"
   ]
  },
  {
   "cell_type": "code",
   "execution_count": null,
   "id": "28dd5d42",
   "metadata": {},
   "outputs": [],
   "source": [
    "a = np.arange(1, size+1)\n",
    "A = np.array([a * np.concatenate((np.ones(i)*-1, np.ones(size-i))) for i in range(size)], dtype=float)\n",
    "b = np.arange(1, size+1, dtype=float)\n",
    "A[range(size), range(size)] = 330\n",
    "\n",
    "\n",
    "# A[0, 0] = 1\n",
    "\n",
    "# A[1:] = A[1:] + A[0]\n",
    "# b[1:] = b[1:] + b[0]\n",
    "\n",
    "# for row1 in range(size-1, 0, -1):\n",
    "#     for row2 in range(row1-1, -1, -1):\n",
    "#         A[row2] = A[row2] - A[row1]*A[row2, row1]/A[row1, row1]\n",
    "#         b[row2] = b[row2] - b[row1]**A[row2, row1]/A[row1, row1]\n",
    "    \n",
    "\n",
    "# A = np.diag(A[range(size), range(size)])"
   ]
  },
  {
   "cell_type": "code",
   "execution_count": null,
   "id": "8e9d5da5",
   "metadata": {},
   "outputs": [],
   "source": [
    "A"
   ]
  },
  {
   "cell_type": "code",
   "execution_count": null,
   "id": "1182aff5",
   "metadata": {},
   "outputs": [],
   "source": [
    "b"
   ]
  },
  {
   "cell_type": "code",
   "execution_count": null,
   "id": "1ee2cca0",
   "metadata": {},
   "outputs": [],
   "source": [
    "B = np.array([-A[i]/A[i, i] for i in range(size)])\n",
    "B[range(size), range(size)] = 0\n",
    "\n",
    "c = np.array([b[i]/A[i, i] for i in range(size)])"
   ]
  },
  {
   "cell_type": "code",
   "execution_count": null,
   "id": "a811cbcc",
   "metadata": {},
   "outputs": [],
   "source": [
    "np.round(B, 3)"
   ]
  },
  {
   "cell_type": "code",
   "execution_count": null,
   "id": "6718458c",
   "metadata": {},
   "outputs": [],
   "source": [
    "np.round(c, 3)"
   ]
  },
  {
   "cell_type": "code",
   "execution_count": null,
   "id": "f3b0eefc",
   "metadata": {},
   "outputs": [],
   "source": [
    "x = LA.solve(A, b)\n",
    "x"
   ]
  },
  {
   "cell_type": "code",
   "execution_count": null,
   "id": "fda6d63f",
   "metadata": {},
   "outputs": [],
   "source": [
    "norm_B = LA.norm(B)\n",
    "norm_c = LA.norm(c)\n",
    "# k = np.log(np.e * (1 - norm_B) / norm_c) / np.log(norm_B)\n",
    "k = np.log(eps / (norm_c + norm_c / (1 - norm_B))) / np.log(norm_B)\n",
    "k, norm_B, norm_c"
   ]
  },
  {
   "cell_type": "code",
   "execution_count": null,
   "id": "dc248188",
   "metadata": {},
   "outputs": [],
   "source": [
    "x_appr_jac, n = jacobi_solve(B, c, eps)\n",
    "x_appr_jac"
   ]
  },
  {
   "cell_type": "code",
   "execution_count": null,
   "id": "fe936b25",
   "metadata": {},
   "outputs": [],
   "source": [
    "LA.norm(x_appr_jac - x), n"
   ]
  },
  {
   "cell_type": "code",
   "execution_count": null,
   "id": "d8f68c2e",
   "metadata": {},
   "outputs": [],
   "source": [
    "U = np.triu(A,1)\n",
    "L = np.tril(A,-1)\n",
    "D = np.tril(np.triu(A))\n",
    "\n",
    "t = LA.norm(LA.inv(L+D)@U)\n",
    "\n",
    "x0 = c\n",
    "x1 = x0.copy()\n",
    "for i in range(size): x1[i] = B[i] @ x1 + c[i]\n",
    "\n",
    "np.log(eps*(1-t)/LA.norm(x1-x0))/np.log(t), t"
   ]
  },
  {
   "cell_type": "code",
   "execution_count": null,
   "id": "4f5cf79c",
   "metadata": {},
   "outputs": [],
   "source": [
    "x_appr_gau, n = gauss_seidel_solve(B, c, A, eps)\n",
    "x_appr_gau"
   ]
  },
  {
   "cell_type": "code",
   "execution_count": null,
   "id": "abecb66c",
   "metadata": {},
   "outputs": [],
   "source": [
    "LA.norm(x_appr_gau - x), n"
   ]
  },
  {
   "cell_type": "code",
   "execution_count": null,
   "id": "15aa5b41",
   "metadata": {},
   "outputs": [],
   "source": [
    "x_appr_rel, n = relax_solve(B, c, eps, 0.9)\n",
    "x_appr_rel"
   ]
  },
  {
   "cell_type": "code",
   "execution_count": null,
   "id": "d7162ef6",
   "metadata": {},
   "outputs": [],
   "source": [
    "LA.norm(x_appr_rel - x), n"
   ]
  },
  {
   "cell_type": "markdown",
   "id": "0103e3f6",
   "metadata": {},
   "source": [
    "$$k \\leq \\frac{ln(\\frac{\\mathcal{E}(1-t)}{\\lVert x^1 - x^0 \\rVert})}{ln(t)}$$"
   ]
  },
  {
   "cell_type": "code",
   "execution_count": null,
   "id": "fcb50161",
   "metadata": {},
   "outputs": [],
   "source": []
  }
 ],
 "metadata": {
  "kernelspec": {
   "display_name": "myenv",
   "language": "python",
   "name": "myenv"
  },
  "language_info": {
   "codemirror_mode": {
    "name": "ipython",
    "version": 3
   },
   "file_extension": ".py",
   "mimetype": "text/x-python",
   "name": "python",
   "nbconvert_exporter": "python",
   "pygments_lexer": "ipython3",
   "version": "3.9.13"
  }
 },
 "nbformat": 4,
 "nbformat_minor": 5
}
