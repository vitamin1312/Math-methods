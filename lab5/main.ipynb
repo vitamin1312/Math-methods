{
 "cells": [
  {
   "cell_type": "code",
   "execution_count": 443,
   "id": "c4224913",
   "metadata": {},
   "outputs": [],
   "source": [
    "import numpy as np\n",
    "from scipy import linalg as LA\n",
    "from scipy.linalg import hessenberg as scipy_hessenberg"
   ]
  },
  {
   "cell_type": "code",
   "execution_count": 444,
   "id": "1f90084d",
   "metadata": {},
   "outputs": [],
   "source": [
    "f_name = 'matrix.txt'\n",
    "\n",
    "def mout(m):\n",
    "    print(np.round(m, 2))"
   ]
  },
  {
   "cell_type": "code",
   "execution_count": 445,
   "id": "1f468393",
   "metadata": {},
   "outputs": [],
   "source": [
    "def parse_matrix(f_name=f_name):\n",
    "    with open(f_name, 'r') as f:\n",
    "            matrix = f.read().split('\\n')\n",
    "            matrix = list(map(lambda row: row.split(' '), matrix))\n",
    "            return np.array(matrix, dtype=np.float64), len(matrix)"
   ]
  },
  {
   "cell_type": "code",
   "execution_count": 446,
   "id": "53d3d1e8",
   "metadata": {},
   "outputs": [],
   "source": [
    "def hessenberg(A):\n",
    "    n = len(A)\n",
    "    w = np.zeros((n, n - 2))\n",
    "    s = np.zeros(n - 2)\n",
    "    m = np.zeros(n - 2)\n",
    "    a = A.copy()\n",
    "    for j in range(n - 2):\n",
    "        sum1 = 0\n",
    "        for k in range(j+1, n):\n",
    "            sum1 += a[k, j]**2\n",
    "            \n",
    "        s[j] = np.sign(-a[j + 1, j]) * np.sqrt(sum1)\n",
    "\n",
    "        if s[j] == 0:\n",
    "            m[j] = 0\n",
    "        else:\n",
    "            m[j] = 1 / np.sqrt(2 * s[j]**2 - 2 * s[j] * a[j + 1, j])\n",
    "\n",
    "        w[j + 1, j] = a[j + 1, j] - s[j]\n",
    "        \n",
    "        for i in range(j + 2, n):\n",
    "            w[i, j] = a[i, j]\n",
    "            \n",
    "        H = np.eye(n) - 2 * (m[j]**2) * np.outer(w[:,j], w[:,j])\n",
    "        a = H @ a @ H\n",
    "\n",
    "    return a"
   ]
  },
  {
   "cell_type": "code",
   "execution_count": 447,
   "id": "1c14efd0",
   "metadata": {},
   "outputs": [],
   "source": [
    "def get_eig_vals(A):\n",
    "    A = A.astype(np.complex64)\n",
    "    a, b, c, d = A[0, 0], A[0, 1], A[1, 0], A[1, 1]\n",
    "\n",
    "    x1 = 0.5 * (a + d + np.sqrt((a+d)**2 - 4*(a*d - b*c)))\n",
    "    x2 = 0.5 * (a + d - np.sqrt((a+d)**2 - 4*(a*d - b*c)))\n",
    "\n",
    "    return [x1, x2]"
   ]
  },
  {
   "cell_type": "code",
   "execution_count": 448,
   "id": "dcfa80a9",
   "metadata": {},
   "outputs": [
    {
     "name": "stdout",
     "output_type": "stream",
     "text": [
      "[[2.3 4.3 5.6 3.2 1.4 2.2]\n",
      " [1.4 2.4 5.7 8.4 3.4 5.2]\n",
      " [2.5 6.5 4.2 7.1 4.9 9.3]\n",
      " [3.8 5.7 2.9 1.6 2.5 7.9]\n",
      " [2.4 5.4 3.7 6.2 3.9 1.8]\n",
      " [1.8 1.7 3.9 4.6 5.7 5.9]]\n"
     ]
    }
   ],
   "source": [
    "matrix, size = parse_matrix()\n",
    "mout(matrix)"
   ]
  },
  {
   "cell_type": "code",
   "execution_count": 449,
   "id": "34598389",
   "metadata": {},
   "outputs": [],
   "source": [
    "w, v = LA.eig(matrix)"
   ]
  },
  {
   "cell_type": "code",
   "execution_count": 450,
   "id": "eaaf4e64",
   "metadata": {},
   "outputs": [
    {
     "name": "stdout",
     "output_type": "stream",
     "text": [
      "[25.56+0.j   -5.64+0.j   -0.67+1.58j -0.67-1.58j  0.87+3.44j  0.87-3.44j]\n"
     ]
    }
   ],
   "source": [
    "mout(w)"
   ]
  },
  {
   "cell_type": "code",
   "execution_count": 451,
   "id": "b7124ae8",
   "metadata": {},
   "outputs": [
    {
     "name": "stdout",
     "output_type": "stream",
     "text": [
      "[[-0.32+0.j   -0.04+0.j    0.75+0.j    0.75-0.j    0.34+0.41j  0.34-0.41j]\n",
      " [-0.43+0.j    0.68+0.j   -0.31+0.05j -0.31-0.05j -0.15+0.23j -0.15-0.23j]\n",
      " [-0.54+0.j   -0.17+0.j   -0.24+0.36j -0.24-0.36j -0.26+0.06j -0.26-0.06j]\n",
      " [-0.38+0.j   -0.68+0.j    0.19-0.3j   0.19+0.3j  -0.09+0.05j -0.09-0.05j]\n",
      " [-0.37+0.j    0.1 +0.j   -0.11+0.05j -0.11-0.05j  0.59+0.j    0.59-0.j  ]\n",
      " [-0.37+0.j    0.19+0.j   -0.01-0.06j -0.01+0.06j -0.16-0.43j -0.16+0.43j]]\n"
     ]
    }
   ],
   "source": [
    "mout(v)"
   ]
  },
  {
   "cell_type": "code",
   "execution_count": 452,
   "id": "b79abc8e",
   "metadata": {},
   "outputs": [
    {
     "name": "stdout",
     "output_type": "stream",
     "text": [
      "eigvalue: (25.56+0j),\n",
      "eigvector: [-0.32+0.j   -0.04+0.j    0.75+0.j    0.75-0.j    0.34+0.41j  0.34-0.41j]\n",
      "\n",
      "eigvalue: (-5.64+0j),\n",
      "eigvector: [-0.43+0.j    0.68+0.j   -0.31+0.05j -0.31-0.05j -0.15+0.23j -0.15-0.23j]\n",
      "\n",
      "eigvalue: (-0.67+1.58j),\n",
      "eigvector: [-0.54+0.j   -0.17+0.j   -0.24+0.36j -0.24-0.36j -0.26+0.06j -0.26-0.06j]\n",
      "\n",
      "eigvalue: (-0.67-1.58j),\n",
      "eigvector: [-0.38+0.j   -0.68+0.j    0.19-0.3j   0.19+0.3j  -0.09+0.05j -0.09-0.05j]\n",
      "\n",
      "eigvalue: (0.87+3.44j),\n",
      "eigvector: [-0.37+0.j    0.1 +0.j   -0.11+0.05j -0.11-0.05j  0.59+0.j    0.59-0.j  ]\n",
      "\n",
      "eigvalue: (0.87-3.44j),\n",
      "eigvector: [-0.37+0.j    0.19+0.j   -0.01-0.06j -0.01+0.06j -0.16-0.43j -0.16+0.43j]\n",
      "\n"
     ]
    }
   ],
   "source": [
    "for i in range(size):\n",
    "    print(f'eigvalue: {np.round(w[i], 2)},\\neigvector: {np.round(v[i], 2)}', end='\\n'*2)"
   ]
  },
  {
   "cell_type": "code",
   "execution_count": 453,
   "id": "43cc3c8d",
   "metadata": {},
   "outputs": [
    {
     "data": {
      "text/plain": [
       "array([ 6.93870824-0.32981673j, 12.98418772-0.74208764j,\n",
       "       12.24559892-1.81399202j,  5.45572935-2.22626293j,\n",
       "        8.39972815+0.86576892j,  9.67580613-0.08245418j])"
      ]
     },
     "execution_count": 453,
     "metadata": {},
     "output_type": "execute_result"
    }
   ],
   "source": [
    "matrix@v[0]"
   ]
  },
  {
   "cell_type": "code",
   "execution_count": 454,
   "id": "ea57f91a",
   "metadata": {},
   "outputs": [
    {
     "data": {
      "text/plain": [
       "array([-8.16166221 +0.j       , -1.03338675 +0.j       ,\n",
       "       19.26347578 +0.j       , 19.26347578 +0.j       ,\n",
       "        8.62067721+10.5367091j,  8.62067721-10.5367091j])"
      ]
     },
     "execution_count": 454,
     "metadata": {},
     "output_type": "execute_result"
    }
   ],
   "source": [
    "v[0]*w[0]"
   ]
  },
  {
   "cell_type": "code",
   "execution_count": 455,
   "id": "6c0956b8",
   "metadata": {},
   "outputs": [
    {
     "name": "stdout",
     "output_type": "stream",
     "text": [
      "[[ 2.3  -7.02 -3.41 -1.93  1.48 -0.11]\n",
      " [-5.63 20.97  6.73 -2.79  0.49 -5.68]\n",
      " [ 0.   10.75 -1.87  0.67  0.44 -0.41]\n",
      " [ 0.   -0.    2.14 -1.41  1.46 -3.42]\n",
      " [-0.   -0.    0.   -1.82 -0.15  1.72]\n",
      " [ 0.   -0.    0.   -0.   -3.83  0.47]]\n"
     ]
    }
   ],
   "source": [
    "hess_matrix = hessenberg(matrix)\n",
    "mout(hess_matrix)"
   ]
  },
  {
   "cell_type": "code",
   "execution_count": 456,
   "id": "e57aaf22",
   "metadata": {},
   "outputs": [
    {
     "name": "stdout",
     "output_type": "stream",
     "text": [
      "[[ 2.3  -7.02 -3.41 -1.93  1.48 -0.11]\n",
      " [-5.63 20.97  6.73 -2.79  0.49 -5.68]\n",
      " [ 0.   10.75 -1.87  0.67  0.44 -0.41]\n",
      " [ 0.    0.    2.14 -1.41  1.46 -3.42]\n",
      " [ 0.    0.    0.   -1.82 -0.15  1.72]\n",
      " [ 0.    0.    0.    0.   -3.83  0.47]]\n"
     ]
    }
   ],
   "source": [
    "mout(scipy_hessenberg(matrix))"
   ]
  },
  {
   "cell_type": "code",
   "execution_count": 469,
   "id": "cc76fce6",
   "metadata": {},
   "outputs": [
    {
     "name": "stdout",
     "output_type": "stream",
     "text": [
      "iteration:  0\n",
      "A matrix: \n",
      "[[ 22.72  -7.82   2.11  -1.13   5.24  -0.54]\n",
      " [-10.04  -1.38  -0.43   4.05  -1.09  -1.39]\n",
      " [ -0.     2.15  -0.85   0.23  -2.6    1.97]\n",
      " [ -0.     0.    -3.55   0.2   -1.05   1.82]\n",
      " [  0.     0.     0.    -2.     0.27  -3.6 ]\n",
      " [  0.    -0.     0.     0.     2.56  -0.66]]\n",
      "iteration:  5\n",
      "A matrix: \n",
      "[[25.56  1.1   0.31  4.75 -4.44 -2.18]\n",
      " [ 0.   -5.63  0.1   0.49  0.86 -3.13]\n",
      " [ 0.    0.22 -0.44  4.06  0.39 -2.03]\n",
      " [ 0.   -0.   -3.32  2.12 -0.42 -0.1 ]\n",
      " [ 0.   -0.   -0.    0.11 -0.83  0.84]\n",
      " [-0.   -0.    0.    0.   -2.85 -0.47]]\n",
      "iteration:  10\n",
      "A matrix: \n",
      "[[ 2.556e+01  1.020e+00  1.560e+00 -4.420e+00  1.880e+00 -4.670e+00]\n",
      " [-0.000e+00 -5.640e+00  3.000e-02 -1.800e-01 -2.660e+00 -1.740e+00]\n",
      " [-0.000e+00  2.000e-02 -2.600e-01  3.030e+00  1.690e+00  1.080e+00]\n",
      " [-0.000e+00 -0.000e+00 -4.330e+00  1.990e+00  5.600e-01  9.700e-01]\n",
      " [ 0.000e+00  0.000e+00  0.000e+00 -0.000e+00  2.600e-01 -1.570e+00]\n",
      " [ 0.000e+00 -0.000e+00  0.000e+00  0.000e+00  2.150e+00 -1.610e+00]]\n",
      "iteration:  15\n",
      "A matrix: \n",
      "[[25.56  1.02  3.38 -3.25  0.41 -5.01]\n",
      " [ 0.   -5.64  0.11 -0.17  3.16 -0.36]\n",
      " [-0.   -0.    0.71  2.39 -1.36 -0.08]\n",
      " [-0.    0.   -4.97  1.02 -1.72  0.64]\n",
      " [ 0.   -0.    0.   -0.    0.12  2.44]\n",
      " [-0.   -0.   -0.   -0.   -1.29 -1.47]]\n",
      "final A: \n",
      "[[25.56  1.02  1.43  4.46  4.56 -2.12]\n",
      " [ 0.   -5.64  0.1   0.18  1.88  2.57]\n",
      " [ 0.    0.   -0.06  4.59  1.53  1.59]\n",
      " [ 0.   -0.   -2.77  1.79  0.08 -0.58]\n",
      " [ 0.   -0.   -0.    0.   -1.57  2.25]\n",
      " [-0.   -0.    0.    0.   -1.47  0.23]]\n",
      "My eig values\n",
      "[25.56+0.j   -5.64+0.j    0.87+3.44j  0.87-3.44j -0.67-1.58j -0.67+1.58j]\n",
      "Scipy eig values\n",
      "[25.56+0.j   -5.64+0.j   -0.67+1.58j -0.67-1.58j  0.87+3.44j  0.87-3.44j]\n"
     ]
    }
   ],
   "source": [
    "eig_approx = hess_matrix\n",
    "for i in range(20):\n",
    "    m = eig_approx\n",
    "    Q, R = LA.qr(m)\n",
    "    eig_approx = R@Q\n",
    "    if i % 5 == 0:\n",
    "        print('iteration: ', i)\n",
    "        print('A matrix: ')\n",
    "        mout(eig_approx)\n",
    "    \n",
    "my_w = np.array([eig_approx[0, 0],\n",
    "        eig_approx[1, 1],\n",
    "        *get_eig_vals(eig_approx[2:4, 2:4]),\n",
    "        *get_eig_vals(eig_approx[4:, 4:]),\n",
    "       ])\n",
    "print('final A: ')\n",
    "mout(eig_approx)\n",
    "print('My eig values')\n",
    "mout(my_w)\n",
    "print('Scipy eig values')\n",
    "mout(w)"
   ]
  },
  {
   "cell_type": "code",
   "execution_count": 458,
   "id": "83b33e92",
   "metadata": {},
   "outputs": [
    {
     "name": "stdout",
     "output_type": "stream",
     "text": [
      "[0.32+0.j 0.43+0.j 0.55+0.j 0.37+0.j 0.37+0.j 0.36+0.j]\n",
      "2\n"
     ]
    }
   ],
   "source": [
    "x0 = np.ones(size, dtype=np.float64)\n",
    "lmd = 2 * LA.eigvals(matrix)[0]/3;\n",
    "e = 0.1\n",
    "k = 0\n",
    "m = matrix - lmd*np.eye(size)\n",
    "m_inv = LA.inv(m)\n",
    "y = m_inv@x0\n",
    "x = y / LA.norm(y)\n",
    "while (LA.norm(x0-x)>e):\n",
    "    x0 = x.copy()\n",
    "    y = m_inv@x0\n",
    "    x = y / LA.norm(y)\n",
    "    k += 1\n",
    "    \n",
    "mout(x)\n",
    "print(k)"
   ]
  },
  {
   "cell_type": "code",
   "execution_count": 459,
   "id": "4b391b7d",
   "metadata": {},
   "outputs": [
    {
     "name": "stderr",
     "output_type": "stream",
     "text": [
      "C:\\Users\\vikto\\AppData\\Local\\Temp\\ipykernel_4384\\2416034784.py:1: RuntimeWarning: invalid value encountered in sqrt\n",
      "  np.sqrt(-5)\n"
     ]
    },
    {
     "data": {
      "text/plain": [
       "nan"
      ]
     },
     "execution_count": 459,
     "metadata": {},
     "output_type": "execute_result"
    }
   ],
   "source": [
    "np.sqrt(-5)"
   ]
  },
  {
   "cell_type": "code",
   "execution_count": null,
   "id": "9bfba8de",
   "metadata": {},
   "outputs": [],
   "source": []
  }
 ],
 "metadata": {
  "kernelspec": {
   "display_name": "myenv",
   "language": "python",
   "name": "myenv"
  },
  "language_info": {
   "codemirror_mode": {
    "name": "ipython",
    "version": 3
   },
   "file_extension": ".py",
   "mimetype": "text/x-python",
   "name": "python",
   "nbconvert_exporter": "python",
   "pygments_lexer": "ipython3",
   "version": "3.9.13"
  }
 },
 "nbformat": 4,
 "nbformat_minor": 5
}
