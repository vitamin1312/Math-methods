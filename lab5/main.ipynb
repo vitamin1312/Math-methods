{
 "cells": [
  {
   "cell_type": "code",
   "execution_count": 45,
   "id": "c4224913",
   "metadata": {},
   "outputs": [],
   "source": [
    "import numpy as np\n",
    "from numpy import linalg as LA"
   ]
  },
  {
   "cell_type": "code",
   "execution_count": 46,
   "id": "1f90084d",
   "metadata": {},
   "outputs": [],
   "source": [
    "f_name = 'matrix.txt'"
   ]
  },
  {
   "cell_type": "code",
   "execution_count": 47,
   "id": "1c14efd0",
   "metadata": {},
   "outputs": [],
   "source": [
    "def parse_matrix(f_name=f_name):\n",
    "    with open(f_name, 'r') as f:\n",
    "            matrix = f.read().split('\\n')\n",
    "            matrix = list(map(lambda row: row.split(' '), matrix))\n",
    "            return np.array(matrix, dtype=np.float64), len(matrix)"
   ]
  },
  {
   "cell_type": "code",
   "execution_count": 48,
   "id": "dcfa80a9",
   "metadata": {},
   "outputs": [
    {
     "data": {
      "text/plain": [
       "array([[2.3, 4.3, 5.6, 3.2, 1.4, 2.2],\n",
       "       [1.4, 2.4, 5.7, 8.4, 3.4, 5.2],\n",
       "       [2.5, 6.5, 4.2, 7.1, 4.9, 9.3],\n",
       "       [3.8, 5.7, 2.9, 1.6, 2.5, 7.9],\n",
       "       [2.4, 5.4, 3.7, 6.2, 3.9, 1.8],\n",
       "       [1.8, 1.7, 3.9, 4.6, 5.7, 5.9]])"
      ]
     },
     "execution_count": 48,
     "metadata": {},
     "output_type": "execute_result"
    }
   ],
   "source": [
    "matrix, size = parse_matrix()\n",
    "matrix"
   ]
  },
  {
   "cell_type": "code",
   "execution_count": 49,
   "id": "34598389",
   "metadata": {},
   "outputs": [],
   "source": [
    "w, v = LA.eig(matrix)"
   ]
  },
  {
   "cell_type": "code",
   "execution_count": 50,
   "id": "eaaf4e64",
   "metadata": {},
   "outputs": [
    {
     "data": {
      "text/plain": [
       "array([25.55773101+0.j        , -5.64128031+0.j        ,\n",
       "       -0.67376672+1.58344078j, -0.67376672-1.58344078j,\n",
       "        0.86554137+3.44262511j,  0.86554137-3.44262511j])"
      ]
     },
     "execution_count": 50,
     "metadata": {},
     "output_type": "execute_result"
    }
   ],
   "source": [
    "w"
   ]
  },
  {
   "cell_type": "code",
   "execution_count": 51,
   "id": "b7124ae8",
   "metadata": {},
   "outputs": [
    {
     "data": {
      "text/plain": [
       "array([[-0.31934221+0.j        , -0.04043343+0.j        ,\n",
       "         0.75372402+0.j        ,  0.75372402-0.j        ,\n",
       "         0.33730213+0.41227091j,  0.33730213-0.41227091j],\n",
       "       [-0.42838892+0.j        ,  0.67772387+0.j        ,\n",
       "        -0.30991418+0.05047081j, -0.30991418-0.05047081j,\n",
       "        -0.14924022+0.23251143j, -0.14924022-0.23251143j],\n",
       "       [-0.54125353+0.j        , -0.17208063+0.j        ,\n",
       "        -0.24081114+0.35875139j, -0.24081114-0.35875139j,\n",
       "        -0.25969285+0.06304831j, -0.25969285-0.06304831j],\n",
       "       [-0.37944822+0.j        , -0.68154322+0.j        ,\n",
       "         0.19175006-0.30435226j,  0.19175006+0.30435226j,\n",
       "        -0.08701143+0.05229136j, -0.08701143-0.05229136j],\n",
       "       [-0.37412222+0.j        ,  0.10104957+0.j        ,\n",
       "        -0.10716492+0.0482279j , -0.10716492-0.0482279j ,\n",
       "         0.58818811+0.j        ,  0.58818811-0.j        ],\n",
       "       [-0.37094436+0.j        ,  0.1863641 +0.j        ,\n",
       "        -0.01081607-0.05733943j, -0.01081607+0.05733943j,\n",
       "        -0.16007002-0.43199219j, -0.16007002+0.43199219j]])"
      ]
     },
     "execution_count": 51,
     "metadata": {},
     "output_type": "execute_result"
    }
   ],
   "source": [
    "v"
   ]
  },
  {
   "cell_type": "code",
   "execution_count": 60,
   "id": "b79abc8e",
   "metadata": {},
   "outputs": [
    {
     "name": "stdout",
     "output_type": "stream",
     "text": [
      "eigvalue: (25.558+0j),\n",
      "eigvector: [-0.319+0.j    -0.04 +0.j     0.754+0.j     0.754-0.j     0.337+0.412j\n",
      "  0.337-0.412j]\n",
      "\n",
      "eigvalue: (-5.641+0j),\n",
      "eigvector: [-0.428+0.j     0.678+0.j    -0.31 +0.05j  -0.31 -0.05j  -0.149+0.233j\n",
      " -0.149-0.233j]\n",
      "\n",
      "eigvalue: (-0.674+1.583j),\n",
      "eigvector: [-0.541+0.j    -0.172+0.j    -0.241+0.359j -0.241-0.359j -0.26 +0.063j\n",
      " -0.26 -0.063j]\n",
      "\n",
      "eigvalue: (-0.674-1.583j),\n",
      "eigvector: [-0.379+0.j    -0.682+0.j     0.192-0.304j  0.192+0.304j -0.087+0.052j\n",
      " -0.087-0.052j]\n",
      "\n",
      "eigvalue: (0.866+3.443j),\n",
      "eigvector: [-0.374+0.j     0.101+0.j    -0.107+0.048j -0.107-0.048j  0.588+0.j\n",
      "  0.588-0.j   ]\n",
      "\n",
      "eigvalue: (0.866-3.443j),\n",
      "eigvector: [-0.371+0.j     0.186+0.j    -0.011-0.057j -0.011+0.057j -0.16 -0.432j\n",
      " -0.16 +0.432j]\n",
      "\n"
     ]
    }
   ],
   "source": [
    "for i in range(size):\n",
    "    print(f'eigvalue: {np.round(w[i], 3)},\\neigvector: {np.round(v[i], 3)}', end='\\n'*2)"
   ]
  },
  {
   "cell_type": "code",
   "execution_count": 61,
   "id": "81d0d897",
   "metadata": {},
   "outputs": [
    {
     "data": {
      "text/plain": [
       "1"
      ]
     },
     "execution_count": 61,
     "metadata": {},
     "output_type": "execute_result"
    }
   ],
   "source": []
  },
  {
   "cell_type": "code",
   "execution_count": null,
   "id": "dc768b0b",
   "metadata": {},
   "outputs": [],
   "source": []
  }
 ],
 "metadata": {
  "kernelspec": {
   "display_name": "myenv",
   "language": "python",
   "name": "myenv"
  },
  "language_info": {
   "codemirror_mode": {
    "name": "ipython",
    "version": 3
   },
   "file_extension": ".py",
   "mimetype": "text/x-python",
   "name": "python",
   "nbconvert_exporter": "python",
   "pygments_lexer": "ipython3",
   "version": "3.9.13"
  }
 },
 "nbformat": 4,
 "nbformat_minor": 5
}
