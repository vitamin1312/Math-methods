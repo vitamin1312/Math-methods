{
 "cells": [
  {
   "cell_type": "code",
   "execution_count": 227,
   "id": "fc706074",
   "metadata": {
    "scrolled": true
   },
   "outputs": [],
   "source": [
    "import numpy as np"
   ]
  },
  {
   "cell_type": "code",
   "execution_count": 228,
   "id": "70ec3ce6",
   "metadata": {
    "scrolled": true
   },
   "outputs": [],
   "source": [
    "def gauss_jordano(a, b):\n",
    "    system = np.column_stack((a, b))\n",
    "    length = len(a)\n",
    "\n",
    "    for i in range(length):\n",
    "        if system[i, i] == 0.:\n",
    "            system[i, :], system[(i+1) % length, :] = system[(i+1) % length, :].copy(), system[i, :].copy()\n",
    "\n",
    "        system[i, :] = system[i, :] / system[i, i]\n",
    "\n",
    "        for j in range(i + 1, length):\n",
    "            system[j, :] = system[j, :] - system[i, :] * system[j, i]\n",
    "\n",
    "    for i in range(length - 1, 0, -1):\n",
    "        for j in range(i - 1, -1, -1):\n",
    "            system[j, :] = system[j, :] - system[i, :] * system[j, i]\n",
    "\n",
    "    return np.array(system[:, -1])"
   ]
  },
  {
   "cell_type": "code",
   "execution_count": 229,
   "id": "d1dd9426",
   "metadata": {
    "scrolled": true
   },
   "outputs": [],
   "source": [
    "size = 9"
   ]
  },
  {
   "cell_type": "code",
   "execution_count": 230,
   "id": "fead1ca4",
   "metadata": {},
   "outputs": [],
   "source": [
    "a = np.arange(1, size+1)\n",
    "A = np.array([a * np.concatenate((np.ones(i)*-1, np.ones(size-i))) for i in range(size)], dtype=float)\n",
    "A[range(size), range(size)] = 0\n",
    "A[0, 0] = 1\n",
    "\n",
    "b = np.arange(1, size+1, dtype=float)"
   ]
  },
  {
   "cell_type": "code",
   "execution_count": 231,
   "id": "0378e782",
   "metadata": {
    "scrolled": true
   },
   "outputs": [
    {
     "data": {
      "text/plain": [
       "array([[ 1.,  2.,  3.,  4.,  5.,  6.,  7.,  8.,  9.],\n",
       "       [-1.,  0.,  3.,  4.,  5.,  6.,  7.,  8.,  9.],\n",
       "       [-1., -2.,  0.,  4.,  5.,  6.,  7.,  8.,  9.],\n",
       "       [-1., -2., -3.,  0.,  5.,  6.,  7.,  8.,  9.],\n",
       "       [-1., -2., -3., -4.,  0.,  6.,  7.,  8.,  9.],\n",
       "       [-1., -2., -3., -4., -5.,  0.,  7.,  8.,  9.],\n",
       "       [-1., -2., -3., -4., -5., -6.,  0.,  8.,  9.],\n",
       "       [-1., -2., -3., -4., -5., -6., -7.,  0.,  9.],\n",
       "       [-1., -2., -3., -4., -5., -6., -7., -8.,  0.]])"
      ]
     },
     "execution_count": 231,
     "metadata": {},
     "output_type": "execute_result"
    }
   ],
   "source": [
    "A"
   ]
  },
  {
   "cell_type": "code",
   "execution_count": 232,
   "id": "9a3f8ec2",
   "metadata": {},
   "outputs": [
    {
     "data": {
      "text/plain": [
       "array([1., 2., 3., 4., 5., 6., 7., 8., 9.])"
      ]
     },
     "execution_count": 232,
     "metadata": {},
     "output_type": "execute_result"
    }
   ],
   "source": [
    "b"
   ]
  },
  {
   "cell_type": "code",
   "execution_count": 233,
   "id": "d3dd99a7",
   "metadata": {
    "scrolled": true
   },
   "outputs": [
    {
     "name": "stdout",
     "output_type": "stream",
     "text": [
      "5.0\n",
      "-5.5\n",
      "3.333\n",
      "-2.75\n",
      "2.0\n",
      "-1.833\n",
      "1.429\n",
      "-1.375\n",
      "1.111\n"
     ]
    }
   ],
   "source": [
    "print(*np.round(x := gauss_jordano(A, b), 3), sep='\\n')"
   ]
  },
  {
   "cell_type": "code",
   "execution_count": 234,
   "id": "d21ce19d",
   "metadata": {},
   "outputs": [
    {
     "data": {
      "text/plain": [
       "5.0140768975811705"
      ]
     },
     "execution_count": 234,
     "metadata": {},
     "output_type": "execute_result"
    }
   ],
   "source": [
    "np.random.seed(42)\n",
    "noise_for_A = np.random.normal(0, 0.292, (size, size))\n",
    "delta_A = np.linalg.norm(noise_for_A, ord=np.inf) / np.linalg.norm(A, ord=np.inf)\n",
    "A_noise = A + noise_for_A\n",
    "delta_A*100"
   ]
  },
  {
   "cell_type": "code",
   "execution_count": 235,
   "id": "7dba2546",
   "metadata": {},
   "outputs": [
    {
     "data": {
      "text/plain": [
       "array([[ 1.145,  1.96 ,  3.189,  4.445,  4.932,  5.932,  7.461,  8.224,\n",
       "         8.863],\n",
       "       [-0.842, -0.135,  2.864,  4.071,  4.441,  5.496,  6.836,  7.704,\n",
       "         9.092],\n",
       "       [-1.265, -2.412,  0.428,  3.934,  5.02 ,  5.584,  6.841,  8.032,\n",
       "         8.664],\n",
       "       [-0.89 , -2.175, -3.085, -0.176,  5.541,  5.996,  6.691,  8.24 ,\n",
       "         8.644],\n",
       "       [-0.939, -2.572, -3.388, -3.943,  0.216,  6.05 ,  6.966,  7.912,\n",
       "         8.568],\n",
       "       [-1.21 , -2.135, -2.691, -3.9  , -5.515,  0.095,  6.888,  7.802,\n",
       "         9.179],\n",
       "       [-0.699, -1.728, -3.245, -4.09 , -4.903, -5.715, -0.14 ,  7.946,\n",
       "         8.677],\n",
       "       [-1.349, -1.763, -2.604, -4.021, -4.707, -5.894, -7.188,  0.106,\n",
       "         9.449],\n",
       "       [-1.01 , -1.543, -3.765, -3.76 , -4.975, -6.087, -6.973, -8.58 ,\n",
       "        -0.064]])"
      ]
     },
     "execution_count": 235,
     "metadata": {},
     "output_type": "execute_result"
    }
   ],
   "source": [
    "np.round(A_noise, 3)"
   ]
  },
  {
   "cell_type": "code",
   "execution_count": 236,
   "id": "9d27a5de",
   "metadata": {
    "scrolled": true
   },
   "outputs": [
    {
     "data": {
      "text/plain": [
       "5.018387391501266"
      ]
     },
     "execution_count": 236,
     "metadata": {},
     "output_type": "execute_result"
    }
   ],
   "source": [
    "np.random.seed(42)\n",
    "noise_for_b = np.random.normal(0, 0.286, size)\n",
    "delta_b = np.linalg.norm(noise_for_b, ord=np.inf) / np.linalg.norm(b, ord=np.inf)\n",
    "b_noise = b + noise_for_b\n",
    "delta_b*100"
   ]
  },
  {
   "cell_type": "code",
   "execution_count": 246,
   "id": "a204e1ed",
   "metadata": {},
   "outputs": [
    {
     "data": {
      "text/plain": [
       "array([1.142, 1.96 , 3.185, 4.436, 4.933, 5.933, 7.452, 8.219, 8.866])"
      ]
     },
     "execution_count": 246,
     "metadata": {},
     "output_type": "execute_result"
    }
   ],
   "source": [
    "np.round(b_noise, 3)"
   ]
  },
  {
   "cell_type": "code",
   "execution_count": 249,
   "id": "778bb509",
   "metadata": {
    "scrolled": true
   },
   "outputs": [
    {
     "name": "stdout",
     "output_type": "stream",
     "text": [
      "[ 8.894 -9.108  7.075 -6.197  4.708 -4.776  3.74  -3.242  1.977]\n",
      "[ 5.029 -5.438  3.217 -2.726  2.081 -1.901  1.412 -1.332  1.112]\n",
      "[ 8.558 -8.679  6.619 -5.865  4.547 -4.632  3.567 -3.078  1.925]\n"
     ]
    }
   ],
   "source": [
    "print(np.round(x1 := gauss_jordano(A_noise, b), 3))\n",
    "print(np.round(x2 := gauss_jordano(A, b_noise), 3))\n",
    "print(np.round(x3 := gauss_jordano(A_noise, b_noise), 3))"
   ]
  },
  {
   "cell_type": "code",
   "execution_count": 247,
   "id": "387fe918",
   "metadata": {
    "scrolled": true
   },
   "outputs": [
    {
     "name": "stdout",
     "output_type": "stream",
     "text": [
      "A norm 1:  327.371\n",
      "A norm 2:  178.965\n",
      "A euklidian norm 225.006\n",
      "A norm inf:  405.0\n"
     ]
    }
   ],
   "source": [
    "print(\"A norm 1: \", round(np.linalg.cond(A, p=1), 3))\n",
    "print(\"A norm 2: \", round(np.linalg.cond(A, p=2), 3))\n",
    "print(\"A euklidian norm\", round(np.linalg.cond(A, p=\"fro\"), 3))\n",
    "print(\"A norm inf: \", round(np.linalg.cond(A, p=np.inf), 3))"
   ]
  },
  {
   "cell_type": "code",
   "execution_count": 248,
   "id": "0b543861",
   "metadata": {
    "scrolled": true
   },
   "outputs": [
    {
     "name": "stdout",
     "output_type": "stream",
     "text": [
      "A_noise norm 1:  571.355\n",
      "A_noise norm 2:  571.355\n",
      "A_noise euklid norm 429.469\n",
      "A_noise norm inf:  571.355\n"
     ]
    }
   ],
   "source": [
    "print(\"A_noise norm 1: \", round(np.linalg.cond(A_noise, p=1), 3))\n",
    "print(\"A_noise norm 2: \", round(np.linalg.cond(A_noise, p=np.2), 3))\n",
    "print(\"A_noise euklid norm\", round(np.linalg.cond(A_noise, p=\"fro\"), 3))\n",
    "print(\"A_noise norm inf: \", round(np.linalg.cond(A_noise, p=np.inf), 3))"
   ]
  },
  {
   "cell_type": "code",
   "execution_count": 241,
   "id": "473cc445",
   "metadata": {
    "scrolled": true
   },
   "outputs": [
    {
     "name": "stdout",
     "output_type": "stream",
     "text": [
      "3.8944006564090046\n",
      "0.1160285275114159\n",
      "3.558447646704453\n"
     ]
    }
   ],
   "source": [
    "print(dx1 := np.linalg.norm(x1 - x, ord=np.inf))\n",
    "print(dx2 := np.linalg.norm(x2 - x, ord=np.inf))\n",
    "print(dx3 := np.linalg.norm(x3 - x, ord=np.inf))"
   ]
  },
  {
   "cell_type": "code",
   "execution_count": 242,
   "id": "47394ef4",
   "metadata": {
    "scrolled": true
   },
   "outputs": [
    {
     "name": "stdout",
     "output_type": "stream",
     "text": [
      "0.7080728466198197\n",
      "0.021096095911166547\n",
      "0.646990481218992\n"
     ]
    }
   ],
   "source": [
    "print(delta_x1 := dx1/np.linalg.norm(x, ord=np.inf))\n",
    "print(delta_x2 := dx2/np.linalg.norm(x, ord=np.inf))\n",
    "print(delta_x3 := dx3/np.linalg.norm(x, ord=np.inf))"
   ]
  },
  {
   "cell_type": "code",
   "execution_count": 243,
   "id": "9f151242",
   "metadata": {
    "scrolled": true
   },
   "outputs": [
    {
     "data": {
      "text/plain": [
       "14.727272727272739"
      ]
     },
     "execution_count": 243,
     "metadata": {},
     "output_type": "execute_result"
    }
   ],
   "source": [
    "relx = np.linalg.norm(np.linalg.inv(A), ord=np.inf) * np.linalg.norm(b, ord=np.inf) / np.linalg.norm(x, ord=np.inf)\n",
    "relx"
   ]
  },
  {
   "cell_type": "code",
   "execution_count": 245,
   "id": "d514fdec",
   "metadata": {
    "scrolled": true
   },
   "outputs": [
    {
     "name": "stdout",
     "output_type": "stream",
     "text": [
      "0.437\n",
      "28.648\n",
      "57.321\n"
     ]
    }
   ],
   "source": [
    "print(round(relx * delta_b, 3))\n",
    "print(round(np.linalg.cond(A_noise, p=np.inf) * delta_A, 3))\n",
    "print(round(np.linalg.cond(A_noise, p=np.inf) * (delta_A + delta_b), 4))"
   ]
  },
  {
   "cell_type": "code",
   "execution_count": 254,
   "id": "1924b62a",
   "metadata": {},
   "outputs": [
    {
     "name": "stdout",
     "output_type": "stream",
     "text": [
      "0.437\n",
      "28.648\n",
      "57.321\n"
     ]
    }
   ],
   "source": [
    "print(round(relx * delta_b, 3))\n",
    "print(round(np.linalg.cond(A_noise, p=np.inf) * delta_A, 3))\n",
    "print(round(np.linalg.cond(A_noise, p=np.inf) * (delta_A + delta_b), 3))"
   ]
  },
  {
   "cell_type": "code",
   "execution_count": 251,
   "id": "4b8a40f6",
   "metadata": {},
   "outputs": [
    {
     "name": "stdout",
     "output_type": "stream",
     "text": [
      "14.11\n",
      "0.421\n",
      "6.449\n"
     ]
    }
   ],
   "source": [
    "print(round(delta_x1/ delta_b, 3))\n",
    "print(round(delta_x2/ delta_A, 3))\n",
    "print(round(delta_x3/(delta_A + delta_b), 3))"
   ]
  },
  {
   "cell_type": "code",
   "execution_count": 255,
   "id": "78497dd8",
   "metadata": {},
   "outputs": [
    {
     "data": {
      "text/plain": [
       "122.63333333333333"
      ]
     },
     "execution_count": 255,
     "metadata": {},
     "output_type": "execute_result"
    }
   ],
   "source": [
    "735.8/6"
   ]
  },
  {
   "cell_type": "code",
   "execution_count": null,
   "id": "58afe65a",
   "metadata": {},
   "outputs": [],
   "source": []
  }
 ],
 "metadata": {
  "kernelspec": {
   "display_name": "myenv",
   "language": "python",
   "name": "myenv"
  },
  "language_info": {
   "codemirror_mode": {
    "name": "ipython",
    "version": 3
   },
   "file_extension": ".py",
   "mimetype": "text/x-python",
   "name": "python",
   "nbconvert_exporter": "python",
   "pygments_lexer": "ipython3",
   "version": "3.9.13"
  }
 },
 "nbformat": 4,
 "nbformat_minor": 5
}
